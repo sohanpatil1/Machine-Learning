{
  "cells": [
    {
      "cell_type": "markdown",
      "metadata": {
        "id": "dhTEdM56b3-n"
      },
      "source": [
        "### Download the data\n",
        "Let's download and uncompress our data and images here:"
      ]
    },
    {
      "cell_type": "code",
      "execution_count": 2,
      "metadata": {
        "colab": {
          "base_uri": "https://localhost:8080/"
        },
        "id": "gMPNGHDXbxEw",
        "outputId": "e5ca122d-9a65-4413-df21-5f419226af18"
      },
      "outputs": [
        {
          "output_type": "stream",
          "name": "stdout",
          "text": [
            "--2022-11-21 02:37:35--  https://docs.google.com/uc?export=download&id=1-mQuJbHvSq9nRugy96dr0aB7isfzaxMZ\n",
            "Resolving docs.google.com (docs.google.com)... 142.250.145.138, 142.250.145.113, 142.250.145.102, ...\n",
            "Connecting to docs.google.com (docs.google.com)|142.250.145.138|:443... connected.\n",
            "HTTP request sent, awaiting response... 303 See Other\n",
            "Location: https://doc-0g-bc-docs.googleusercontent.com/docs/securesc/ha0ro937gcuc7l7deffksulhg5h7mbp1/phi9k4m9l345o4mfiptgcv774icdsbua/1668998250000/07583565538848666242/*/1-mQuJbHvSq9nRugy96dr0aB7isfzaxMZ?e=download&uuid=5029624b-6127-4fa5-a468-ac813eafb73e [following]\n",
            "Warning: wildcards not supported in HTTP.\n",
            "--2022-11-21 02:37:36--  https://doc-0g-bc-docs.googleusercontent.com/docs/securesc/ha0ro937gcuc7l7deffksulhg5h7mbp1/phi9k4m9l345o4mfiptgcv774icdsbua/1668998250000/07583565538848666242/*/1-mQuJbHvSq9nRugy96dr0aB7isfzaxMZ?e=download&uuid=5029624b-6127-4fa5-a468-ac813eafb73e\n",
            "Resolving doc-0g-bc-docs.googleusercontent.com (doc-0g-bc-docs.googleusercontent.com)... 108.177.119.132, 2a00:1450:4013:c00::84\n",
            "Connecting to doc-0g-bc-docs.googleusercontent.com (doc-0g-bc-docs.googleusercontent.com)|108.177.119.132|:443... connected.\n",
            "HTTP request sent, awaiting response... 200 OK\n",
            "Length: 10719579 (10M) [application/x-zip-compressed]\n",
            "Saving to: ‘data.zip’\n",
            "\n",
            "data.zip            100%[===================>]  10.22M  38.3MB/s    in 0.3s    \n",
            "\n",
            "2022-11-21 02:37:37 (38.3 MB/s) - ‘data.zip’ saved [10719579/10719579]\n",
            "\n",
            "Archive:  data.zip\n",
            "  inflating: assets/flower.png       \n",
            "  inflating: assets/flowerfit.png    \n",
            "  inflating: assets/LogisticRegression.png  \n",
            "  inflating: assets/mayTheFourth.gif  \n",
            "  inflating: assets/NeuralNetwork.key  \n",
            "  inflating: assets/NeuralNetwork.png  \n",
            "  inflating: assets/NeuralNetwork2.png  \n",
            "  inflating: assets/NeuralNetworksSWedition.png  \n",
            "  inflating: assets/nngeneralization.png  \n",
            "  inflating: assets/results_darthvader.png  \n",
            "  inflating: assets/singlelayer.png  \n",
            "   creating: data/cats/\n",
            "  inflating: data/cats/cats.npz      \n",
            "  inflating: data/cats/test_catvnoncat.h5  \n",
            "  inflating: data/cats/train_catvnoncat.h5  \n",
            "   creating: data/mayTheFourth/\n",
            "  inflating: data/mayTheFourth/darth.jpeg  \n",
            "  inflating: data/mayTheFourth/mayTheFourth.npz  \n",
            "   creating: data/rose/\n",
            "  inflating: data/rose/rose.npz      \n",
            "   creating: data/titanic/\n",
            "  inflating: data/titanic/train_data.csv  \n",
            "Please download the data using the following link: https://docs.google.com/uc?export=download&id=1-mQuJbHvSq9nRugy96dr0aB7isfzaxMZ\n"
          ]
        }
      ],
      "source": [
        "import platform\n",
        "mysystem = platform.system()\n",
        "# We need to first download the data here:\n",
        "file_id = '1-mQuJbHvSq9nRugy96dr0aB7isfzaxMZ'\n",
        "file_download_link = \"https://docs.google.com/uc?export=download&id=\" + file_id\n",
        "# Check for windows\n",
        "if mysystem != 'Windows':\n",
        "    !wget -O data.zip --no-check-certificate \"$file_download_link\"\n",
        "    !unzip data.zip\n",
        "\n",
        "print('Please download the data using the following link:', file_download_link)"
      ]
    },
    {
      "cell_type": "markdown",
      "metadata": {
        "id": "2O9KZgKoYnaP"
      },
      "source": [
        "# Artificial Neural Networks\n"
      ]
    },
    {
      "cell_type": "markdown",
      "metadata": {
        "id": "fASdT6lKYnaS"
      },
      "source": [
        "### Contents\n",
        "1. Artificial neural networks (ANNs) and their link to Logistic regression\n",
        "2. Generalization of multi layer networks\n",
        "3. Step by step implementation of our ANN class\n",
        "4. Does it do what it is supposed to do?\n",
        "    1. linear regression: 25 all over again!\n",
        "    2. Another go at our Titanic dataset\n",
        "    3. Complex fit of flowers\n",
        "    4. Andrew Ng's cat vs non-cat classifying\n",
        "5. Round up\n",
        "**Apendix:**\n",
        "- Data creation/processing for Rose / Cats\n",
        "- Crude version of a hyperparameter sweep\n",
        "\n"
      ]
    },
    {
      "cell_type": "markdown",
      "metadata": {
        "id": "cTteqw79YnaS"
      },
      "source": [
        "## Artificial neural networks (ANNs) and their link to Logistic regression"
      ]
    },
    {
      "cell_type": "markdown",
      "metadata": {
        "id": "LJmMNloLYnaS"
      },
      "source": [
        "When we would ask a random person about Machine Learning, there is a big chance that neural networks are mentioned. Not only does the terminology play with our imagination, but these mathematical structures have also proven themselves to solve complex tasks. Many of you have probably seen such a network and it almost radiates simplicity:\n",
        "\n",
        "\n",
        "<img src=\"https://drive.google.com/uc?id=10yZYlGrKUh0uFDQ862TphkNjT3EBQBIS\" alt=\"Artificial Neural Network example\" width=\"500\" style=\"display: block; margin: 0 auto\" />\n"
      ]
    },
    {
      "cell_type": "markdown",
      "metadata": {
        "id": "60kRcxs2YnaT"
      },
      "source": [
        "In this simple diagram, we show an artificial neural network (ANN), or just simply neural network (NN), which has three layers. By convention, we do not count the input layer, and later we see that this layer in the diagram represents the input data you feed into the NN. This particular NN has two hidden layers. While I am not sure why it exactly is called a hidden layer, I can imagine that one reason could be that these layers are 'hidden' from the user. A user inputs data through the input data and gets results from the output layer, therefore, not interacting with the hidden layers. The user would not see if there is just a single layer, two layers, or even ten layers. The output however, is an actual layer, in our case a single neuron, which 'collects' the results from the previous hidden layer.\n"
      ]
    },
    {
      "cell_type": "markdown",
      "metadata": {
        "id": "mDF1aLoTYnaT"
      },
      "source": [
        "A logistic regression can be seen as the tiniest possible NN, with just a single layer, consisting of a single neuron. A diagram of a logistic regression can look like this:\n",
        "\n",
        "<img src=\"https://drive.google.com/uc?id=1W-qiH9eroJJUZR82Qy81liXnBK_knp37\" alt=\"Artificial Neural Network example\" width=\"400\" style=\"display: block; margin: 0 auto\" />"
      ]
    },
    {
      "cell_type": "markdown",
      "metadata": {
        "id": "iDdqYzipYnaT"
      },
      "source": [
        "Let's do a short recap on this logistic model. First, we massaged the input data in such a way that the individual features ($x_1, x_2, x_3$) are in the rows of our input vector $X$, and the columns are the examples (training samples). This input vector $X$ is then forwarded to our single neuron, which can be divided in two parts. First, a linear operation (linear regression), $z = X W + b$, followed by an activation function $A = g(z)$. In our previous tutorial we performed binary logistic regression, which uses the sigmoid activation function $\\sigma(z) = \\frac{1}{1 + \\exp{-z}}$. Here we generalize this by using $g(z)$ to indicate an activation function we have to define. As we will learn today, there are many other activation functions to choose from.\n",
        "\n",
        "Before we can calculate the activation function we need to calculate the linear part $z$. This is the inner product of the weights vector $W$ and the input vector $X$, with the bias term $b$ added. The bias term $b$ and the weights vector $W$ (consisting of $w_1, w_2, w_3$) are the trainable parameters of this system. Each trainable weight ($w_1, w_2, w_3$) corresponds to an input feature ($x_1, x_2, x_3$) and represents the 'weight' this feature is adding to the problem. These weights are drawn inside the output layer frame, meaning that they are linked to this layer (inside this single neuron).\n"
      ]
    },
    {
      "cell_type": "markdown",
      "metadata": {
        "id": "aB04B12gYnaU"
      },
      "source": [
        "While logistic regression is a great tool, in can only divide the parameter space in a line, at least in the from we have presented here. For example, if you have two features $x_1$ and $x_2$, which will be used to predict $y$, a logistic classifier is only able to have a linear boundary between the two parameters. If this is not completely clear, we will have an example to show this problem.\n",
        "\n",
        "To have the system predict more complex relations, we can add more neurons to a layer and even add more layers to our network. Each of this neuron is a kind of logistic regression unit and many of these combined can predict highly non-linear relations. I say kind of, because in a logistic regression we typically use the sigmoid function, while in a NN, many other activation function perform much better.\n",
        "\n",
        "<img src=\"https://drive.google.com/uc?id=1E1iyQlEDcd7ARsnTS-Tgm3JaK3lGwfKB\" alt=\"Artificial Neural Network example\" width=\"500\" style=\"display: block; margin: 0 auto\" />\n",
        "\n",
        "Before we will start to generalize a NN and the used layers, observe how the different neurons are connected. You will notice that each node is connected to all nodes of the next layer. This is called densely connected (sometimes fully connected) and such a layer is often called a 'Dense layer'. Now, lets try to define such structures.\n"
      ]
    },
    {
      "cell_type": "markdown",
      "metadata": {
        "id": "KliNfAWUYnaV"
      },
      "source": [
        "## Generalization of multi layer networks"
      ]
    },
    {
      "cell_type": "markdown",
      "metadata": {
        "id": "IPsVuOUAYnaV"
      },
      "source": [
        "Before we can start to develop our system, lets try to first generalize the steps required. The goal of this tutorial is to create a general NN class in which we can add arbitrary number of layers, containing arbitrary number of neurons. Later we will test this structure on various problems with varying complexity.\n",
        "\n",
        "When we think of the input layer, we have already discovered that it is not an actual layer of the neural network, but the training data, massaged in the right form. Therefore, the input 'layer' is not part of our architecture.\n",
        "\n",
        "The neural network will however consist of an arbitrary number of layers. These will be structures that behave in a similar fashion and are sequetial to each other. When doing the forward pass, we will loop through all the layers and use the output of the previous layer as input for the current layer. The output of the final layer, also called the final activation $A$ is the output of the neural network. This means that, if the neural network is used to predict binary values, the output has to be converted (or rounded) to the actual predictions $\\hat Y$.\n",
        "\n",
        "To do one pass of gradient descent, we need to have the weights. For this, we need to calculate the gradient of the loss function with respect of $W$ and $b$ for each layer. To calculate the gradients, we can do a clever trick and cache the values of $z$ and $A$ during the forward pass. We need to do some bookkeeping here the most mathematically heavy part is quite doable.\n",
        "\n",
        "After all gradients are calculated the weights are then updated using a simple gradient descent step. To make is visual I have created the following diagram:\n",
        "\n",
        "<img src=\"https://drive.google.com/uc?id=1jLFZ28_VOCKXmYkaIhVK070gNOuQOSf7\" alt=\"Artificial Neural Network example\" width=\"700\" style=\"display: block; margin: 0 auto\" />"
      ]
    },
    {
      "cell_type": "markdown",
      "metadata": {
        "id": "WxObOFjpOu4G"
      },
      "source": [
        "Here the forward pass calculates our loss and is used in the backward pass to calculate updated weights based on alpha. Next we calculate our loss again in the forward pass which then is used again in the next GD step to update weights based on the gradient descent step based on alpha. We do this until we minimize our loss past a certain threshold or after a certain number of iterations. We will now go into detail of these steps."
      ]
    },
    {
      "cell_type": "markdown",
      "metadata": {
        "id": "uaJnutauYnaV"
      },
      "source": [
        "All layers in the network are fundamentally the same. They can differ in the amount of nodes or the activation function, but there is no structural difference between the first layer $L_1$ and the output layer $L_o$. \n",
        "\n",
        "As we will be creating only fully connected Dense layers, we can create a single structure to do the hard work. In this structure we have to do the math for the forward pass, the backward pass, and the update. The input of each layer is generally the output of the previous layer. Obviously, for the first layer, this is the input vector. For the backward pass, we sequentially go through the network in the reverse direction. However, here we need to do an addtional step. We need to calculate the gradients with respect to the defined loss function. For this we need to input the true labels $Y$ and the predicted output $A$ during the backward pass. After this, we again have that the previous gradient is the input for the next layer (remember: we are going backwards). Each layer handels the backwards pass in the same way:\n",
        "\n",
        "<img src=\"https://drive.google.com/uc?id=13IN6rIkiSdCuT8lT8BSasCj4wdA_spGW\" alt=\"Artificial Neural Network example\" width=\"600\" style=\"display: block; margin: 0 auto\" />\n"
      ]
    },
    {
      "cell_type": "markdown",
      "metadata": {
        "id": "dr62GIGZYnaV"
      },
      "source": [
        "For each layer, in the forward pass, in expects the output of the previous layer (or $X$). This is then cached for use during the backward pass. We calculate the linear part $z$ with one single vectorized inner product calculation for all neurons and add the bias term. We also cache this value of $z$ for the backward pass. Finally, we will calculate the activation function and pass the result to the next layer (or this is the output if it is the final layer).\n",
        "\n",
        "The backward pass is just the forward pass in reverse, but expects the previous gradient as an input. We calculate the gradients, using the cached values of $A_p$ and $z_p$. As a last step we calculate $dA_p$ which will be the input to the next layer. I do not want to focus to much on the actual differentials, but will explain them a bit more in the code. If you really want to know how these differentials are calculated, I would suggest to get a pen and paper and try to calculate them. They are not hard and [Wolfram Alpha](https://www.wolframalpha.com/) can help you :-).\n"
      ]
    },
    {
      "cell_type": "markdown",
      "metadata": {
        "id": "Lb3TFMsiYnaV"
      },
      "source": [
        "If it is not completely clear what each step is doing, do not worry to much about it. I will try to explain each step during the coding part. To have an idea, let us summarize what we will be making:\n",
        "\n",
        "#### Dense Layer Class\n",
        "- structure to hold an arbitrary number of nodes\n",
        "- will have various activation functions\n",
        "- will perform the forward pass through the single layer (z and A)\n",
        "- will perform the backward pass for the layer\n",
        "- will perform the update step for the layer\n",
        "\n",
        "#### Neural Network Class\n",
        "- structure to hold an arbitrary number of layers\n",
        "- will perform the forward pass sequentially through all layers\n",
        "- will do the cost calculation for various loss functions\n",
        "- will perform the backward pass and calculate all gradients\n",
        "- will do an update (a step of gradient descent)\n"
      ]
    },
    {
      "cell_type": "markdown",
      "metadata": {
        "id": "N-xm3KnxYnaW"
      },
      "source": [
        "## Step by step implementation of our ANN class"
      ]
    },
    {
      "cell_type": "markdown",
      "metadata": {
        "id": "uYPvx5awYnaW"
      },
      "source": [
        "Now lets start to implement our NN classes. First import numpy"
      ]
    },
    {
      "cell_type": "code",
      "execution_count": 25,
      "metadata": {
        "id": "zL1c0GPfYnaW"
      },
      "outputs": [],
      "source": [
        "import numpy as np\n",
        "import pandas as pd"
      ]
    },
    {
      "cell_type": "markdown",
      "metadata": {
        "id": "cryqx1XlYnaX"
      },
      "source": [
        "Before we can define our main NN class, we need to define our Dense layer class. As I want to do some error checking, we will first define some custom Exceptions:"
      ]
    },
    {
      "cell_type": "code",
      "execution_count": 26,
      "metadata": {
        "id": "eAemRcfmYnaX"
      },
      "outputs": [],
      "source": [
        "class ActivationDoesNotExist(Exception):\n",
        "    \"\"\"Valid activations are sigmoid, tanh, and relu, provided as a string\"\"\"\n",
        "    pass\n",
        "\n",
        "class InputDimensionNotCorrect(Exception):\n",
        "    \"\"\"Need to specify input dimension, i.e. input shape into the first layer\"\"\"\n",
        "    pass\n",
        "\n",
        "class LossFunctionNotDefined(Exception):\n",
        "    \"\"\"Loss function in cost() method not defined\"\"\"\n",
        "    pass"
      ]
    },
    {
      "cell_type": "markdown",
      "metadata": {
        "id": "HtY-qXimYnaX"
      },
      "source": [
        "These exception extend Python's default Exception class and now can be used with the 'raise' keyword to create an exception that tells the user what the mistake is. If your systems get larger, it is good practice to have meaningful errors. Another great way is using the logging module."
      ]
    },
    {
      "cell_type": "markdown",
      "metadata": {
        "id": "OXbJ-bRVYnaX"
      },
      "source": [
        "Now we can begin with our new class called DenseLayer. This class takes a constructor with two required parameters:\n",
        "- Input Dimension, i.e. the number of features of the input vector, or the number of units from the previous layer\n",
        "- Units, i.e. the number of neurons in this layer\n",
        "There are two more optional parameters:\n",
        "- Activation: here you can indicate what activation the layer should use. Defined are sigmoid, relu, tanh, and ''. The empty string indicates no activation, meaning we just have a regression.\n",
        "- Random Multiplier is the value which the random weights are multiplied. Generally 0.01 is fine, but sometimes tweaking this number can help.\n",
        "\n",
        "As there can me different activation functions and we do not want to check which activation we have using an if-statement, we make a reference to the used activation functions in the init statement.\n",
        "\n",
        "**In the initialize method, the weights are initialized. Notice that the number of neurons nh (units) are in the rows, and the number of input features nx are the columns. This is required to make our dot product work later.**\n",
        "\n",
        "Another thing I learned recently is the use of 'self' in Python. While I thought I understood the concept, I did not fully understand the concequences. The definition of the class is separated from the values of each instance. These values are stored in the self object, i.e. the object of the instance. In other programming languages it is common to define types it the class itself. However, in Python you have to define these in the init method. When not doing this, the variable is the same object in all your instances and you can get weird results. I just found this [blog-post](https://towardsdatascience.com/python-pitfall-mutable-default-arguments-9385e8265422) where Don Cross has a very clear explanation.\n",
        "\n",
        "\n",
        "```python\n",
        "class DenseLayer:\n",
        "    def __init__(self, inputDimension, units, activation='', randomMultiplier=0.01):\n",
        "        self.weights, self.bias = self.initialize(inputDimension, units, randomMultiplier)\n",
        "        if activation == 'sigmoid':\n",
        "            self.activation = activation\n",
        "            self.activationForward = self.sigmoid\n",
        "            self.activationBackward = self.sigmoidGrad\n",
        "        elif activation == 'relu':\n",
        "            self.activation = activation\n",
        "            self.activationForward = self.relu\n",
        "            self.activationBackward = self.reluGrad\n",
        "        elif activation == 'tanh':\n",
        "            self.activation = activation\n",
        "            self.activationFunction = self.tanh\n",
        "            self.activationBackward = self.tanhGrad\n",
        "        elif activation != '':\n",
        "            raise ActivationDoesNotExist\n",
        "        else:\n",
        "            self.activation = 'none'\n",
        "            self.activationFunction = self.linear\n",
        "            self.activationBackward = self.linear\n",
        "    \n",
        "    def initialize(self, nx, nh, randomMultiplier):\n",
        "        weights = randomMultiplier * np.random.randn(nh, nx)\n",
        "        bias = np.zeros([nh, 1])\n",
        "        return weights, bias\n",
        "\n",
        "```"
      ]
    },
    {
      "cell_type": "markdown",
      "metadata": {
        "id": "oHqOChxmYnaY"
      },
      "source": [
        "Next we define all used activation functions. The sigmoid we already know from the previous Tutorial, however we also include tanh and relu, which are also very common activation functions.\n",
        "\n",
        "Tanh or hyperbolic tangent in full is a function which is similar to the sigmoid, however it maps all real values between -1 and +1. It was very popular, before the Relu function made its way to the stage. \n",
        "\n",
        "Relu, which stands for Rectified linear unit, is probably the most popular activation function. It is fast to calculate and has often better results than the Tanh function. Therefore, if you are not sure, the Relu function is a great start. The Relu function maps all values smaller than 0 to zero and all values larger than 0 as the value itself. \n",
        "\n",
        "The last activation function we will introduce is called the linear function. This is the same as not having an activation function, and is just a placeholder. What comes in, comes out and we use it to test our previous excersise on Linear regression.\n",
        "\n",
        "The backward pass needs the differentials of all these functions, which are provided with the Grad suffix. Feel free to check if these differentials are correct. One additional step for each Grad calculation is that we multiply the input gradient (dA0 with the calculated gradient. This is required because we use the [chain rule](https://en.wikipedia.org/wiki/Differentiation_rules#The_chain_rule) (continously through back propagation).\n"
      ]
    },
    {
      "cell_type": "markdown",
      "metadata": {
        "id": "pSxl13x4YnaY"
      },
      "source": [
        "```python\n",
        "    def sigmoid(self, Z):\n",
        "            A = 1 / (1 + np.exp(-Z))\n",
        "            return A\n",
        "        \n",
        "    def sigmoidGrad(self, dA):\n",
        "            s = 1 / (1 + np.exp(-self.prevZ))\n",
        "            dZ = dA * s * (1 - s)\n",
        "            return dZ\n",
        "    \n",
        "    def relu(self, Z):\n",
        "            A = np.maximum(0, Z)\n",
        "            return A\n",
        "        \n",
        "    def reluGrad(self, dA):\n",
        "            s = np.maximum(0, self.prevZ)\n",
        "            dZ = (s>0) * 1 * dA\n",
        "            return dZ \n",
        "\n",
        "    def tanh(self, Z):\n",
        "            A = np.tanh(Z)\n",
        "            return A\n",
        "\n",
        "    def tanhGrad(self, dA):\n",
        "            s = np.tanh(self.prevZ)\n",
        "            dZ = (1 - s**2) * dA\n",
        "            return dZ\n",
        "            \n",
        "    def linear(self, Z):\n",
        "        return Z\n",
        "```"
      ]
    },
    {
      "cell_type": "markdown",
      "metadata": {
        "id": "AWvqxVobYnaY"
      },
      "source": [
        "Next, we define the forward propagation step, which should look very familiar:\n",
        "```python\n",
        "    def forward(self, A):\n",
        "        Z = np.dot(self.weights, A) + self.bias\n",
        "        self.prevZ = Z\n",
        "        self.prevA = A\n",
        "        A = self.activationForward(Z)\n",
        "        return A\n",
        "```\n",
        "\n",
        "We first calculate the linear part. Store the values for Z and A for later use in the back propagation and next apply the activation function.\n"
      ]
    },
    {
      "cell_type": "markdown",
      "metadata": {
        "id": "yxnfkWXWYnaY"
      },
      "source": [
        "Before starting our backpropstep we need to define our loss function. For logistic regression it's done with the binary cross entropy, for which I will simply give the equation. \n",
        "\\begin{equation}\n",
        "loss = -\\frac{1}{m}\\sum_{i=1}^{m}y\\log(A)+(1-y)\\log(1-A)\n",
        "\\end{equation}\n",
        "\n",
        "Now for the backwards pass, We would need to differentiate the Loss function with $W$ and $b$. Not to  bore you guys, \n",
        "I have provided these functions:\n",
        "\n",
        "\\begin{equation}\n",
        " \\frac{\\partial loss}{\\partial W} = \\frac{1}{m} \\sum_{i=1}^m  X(A - Y)^T \\\\\n",
        " \\frac{\\partial loss}{\\partial b} = \\frac{1}{m} \\sum_{i=1}^m (A - y)\n",
        "\\end{equation}\n",
        "\n",
        "In Python, this looks like this:\n",
        "\n",
        "The backward propagation looks again similar to the previous tutorial, however we have split the backward activation part to the activation functions itself. Also this function expects to get dA, which is a more generalized form for multiple layers. In our previous single layer example we combined the differential of the loss function in this step. Now this step is in our NN class and not in each layer, as it is only required at the last layer.\n",
        "\n",
        "```python\n",
        "  def backward(self, dA):\n",
        "        dZ = self.activationBackward(dA)\n",
        "        m = self.prevA.shape[1]\n",
        "        self.dW = 1 / m * np.dot(dZ, self.prevA.T)\n",
        "        self.db = 1 / m * np.sum(dZ, axis=1, keepdims=True)\n",
        "        prevdA = np.dot(self.weights.T, dZ)\n",
        "        return prevdA \n",
        "```\n",
        "\n",
        "The gradients are stored in the layer and can be used later by the update function, which performs the gradient descent step. This backward passes chain together for each layer as we will see later.\n"
      ]
    },
    {
      "cell_type": "markdown",
      "metadata": {
        "id": "0WCvZ8OwYnaZ"
      },
      "source": [
        "The final required function is the update function, which performs the gradient descent step. Nothing spectacular but it expects a learning rate.\n",
        "\n",
        "```python\n",
        "    def update(self, learning_rate):\n",
        "        self.weights = self.weights - learning_rate * self.dW\n",
        "        self.bias = self.bias - learning_rate * self.db\n",
        "```\n"
      ]
    },
    {
      "cell_type": "markdown",
      "metadata": {
        "id": "-tYYtmXeYnaZ"
      },
      "source": [
        "While not required, these next function help in printing the model\n",
        "\n",
        "```python    \n",
        "    def __repr__(self):\n",
        "        act = 'none' if self.activation == '' else self.activation\n",
        "        return f'Dense layer (nx={self.weights.shape[1]}, nh={self.weights.shape[0]}, activation={act})'\n",
        "```\n"
      ]
    },
    {
      "cell_type": "markdown",
      "metadata": {
        "id": "X8s37ly0YnaZ"
      },
      "source": [
        "### The complete DenseLayer class"
      ]
    },
    {
      "cell_type": "code",
      "execution_count": 52,
      "metadata": {
        "id": "rYdB_I4XYnaZ"
      },
      "outputs": [],
      "source": [
        "class DenseLayer:\n",
        "    \"\"\"\n",
        "    A class to define fully connected layers.\n",
        "    \"\"\"\n",
        "    \n",
        "    def __init__(self, inputDimension, units, activation='', randomMultiplier=0.01):\n",
        "        \"\"\"\n",
        "        Constructor:\n",
        "          inputDimension: number of input features\n",
        "          units: number of neurons in the layer\n",
        "          activation: activation function applied to layer\n",
        "            - options: 'sigmoid', 'tanh', 'relu', ''\n",
        "          randomMultiplier: multiplier applied to the random weights during initialization\n",
        "        \"\"\"\n",
        "        self.weights, self.bias = self.initialize(inputDimension, units, randomMultiplier)\n",
        "        if activation == 'sigmoid':\n",
        "            self.activation = activation\n",
        "            self.activationForward = self.sigmoid\n",
        "            self.activationBackward = self.sigmoidGrad\n",
        "        elif activation == 'relu':\n",
        "            self.activation = activation\n",
        "            self.activationForward = self.relu\n",
        "            self.activationBackward = self.reluGrad\n",
        "        elif activation == 'tanh':\n",
        "            self.activation = activation\n",
        "            self.activationForward = self.tanh\n",
        "            self.activationBackward = self.tanhGrad\n",
        "        elif activation != '':\n",
        "            raise ActivationDoesNotExist\n",
        "        else:\n",
        "            self.activation = 'none'\n",
        "            self.activationForward = self.linear\n",
        "            self.activationBackward = self.linear\n",
        "    \n",
        "    def initialize(self, nx, nh, randomMultiplier):\n",
        "        \"\"\"\n",
        "        Initializes weights randomly:\n",
        "          nx: number of input features\n",
        "          nh: number of units\n",
        "          randomMultiplier: multiplier applied to the random weights during initialization\n",
        "        returns:\n",
        "          weights: the randomly initialized weights\n",
        "          bias: the bias terms\n",
        "        \"\"\"\n",
        "        weights = randomMultiplier * np.random.randn(nh, nx)\n",
        "        bias = np.zeros([nh, 1])\n",
        "        return weights, bias\n",
        "\n",
        "    \n",
        "    def sigmoid(self, Z):\n",
        "        \"\"\"\n",
        "        Sigmoid activation function\n",
        "        \"\"\"\n",
        "        A = 1 / (1 + np.exp(-Z))\n",
        "        return A\n",
        "        \n",
        "    def sigmoidGrad(self, dA):\n",
        "        \"\"\"\n",
        "        Differential of sigmoid function with chain rule applied\n",
        "        \"\"\"\n",
        "        s = 1 / (1 + np.exp(-self.prevZ))\n",
        "        dZ = dA * s * (1 - s)\n",
        "        return dZ\n",
        "    \n",
        "    def relu(self, Z):\n",
        "        \"\"\"\n",
        "        Relu activation function\n",
        "        \"\"\"\n",
        "        A = np.maximum(0, Z)\n",
        "        return A\n",
        "        \n",
        "    def reluGrad(self, dA):\n",
        "        \"\"\"\n",
        "        Differential of relu function with chain rule applied\n",
        "        \"\"\"\n",
        "        s = np.maximum(0, self.prevZ)\n",
        "        dZ = (s>0) * 1 * dA\n",
        "        return dZ \n",
        "\n",
        "    def tanh(self, Z):\n",
        "        \"\"\"\n",
        "        Tanh activation function\n",
        "        \"\"\"\n",
        "        A = np.tanh(Z)\n",
        "        return A\n",
        "\n",
        "    def tanhGrad(self, dA):\n",
        "        \"\"\"\n",
        "        Differential of tanh function with chain rule applied\n",
        "        \"\"\"\n",
        "        s = np.tanh(self.prevZ)\n",
        "        dZ = (1 - s**2) * dA\n",
        "        return dZ\n",
        "\n",
        "\n",
        "    def linear(self, Z):\n",
        "        \"\"\"\n",
        "        Placeholder when no activation function is used\n",
        "        \"\"\"\n",
        "        return Z\n",
        "        \n",
        "    \n",
        "    def forward(self, A):\n",
        "        \"\"\"\n",
        "        Forward pass through layer\n",
        "          A: input vector\n",
        "        \"\"\"\n",
        "        Z = np.dot(self.weights, A) + self.bias\n",
        "        self.prevZ = Z\n",
        "        self.prevA = A\n",
        "        A = self.activationForward(Z)\n",
        "        return A\n",
        "    \n",
        "    \n",
        "    def backward(self, dA):\n",
        "        \"\"\"\n",
        "        Backward pass through layer\n",
        "          dA: previous gradient\n",
        "        \"\"\"\n",
        "        dZ = self.activationBackward(dA)\n",
        "        m = self.prevA.shape[1]\n",
        "        self.dW = 1 / m * np.dot(dZ, self.prevA.T)\n",
        "        self.db = 1 / m * np.sum(dZ, axis=1, keepdims=True)\n",
        "        prevdA = np.dot(self.weights.T, dZ)\n",
        "        return prevdA\n",
        "    \n",
        "    \n",
        "    def update(self, learning_rate):\n",
        "        \"\"\"\n",
        "        Update weights using gradients from backward pass\n",
        "          learning_rate: the learning rate used in the gradient descent\n",
        "        \"\"\"\n",
        "        self.weights = self.weights - learning_rate * self.dW\n",
        "        self.bias = self.bias - learning_rate * self.db\n",
        "\n",
        "        \n",
        "    def outputDimension(self):\n",
        "        \"\"\"\n",
        "        Returns the output dimension for the next layer\n",
        "        \"\"\"\n",
        "        return len(self.bias)\n",
        "\n",
        "    \n",
        "    def __repr__(self):\n",
        "        \"\"\"\n",
        "        Used to print a pretty summary of the layer\n",
        "        \"\"\"\n",
        "        act = 'none' if self.activation == '' else self.activation\n",
        "        return f'Dense layer (nx={self.weights.shape[1]}, nh={self.weights.shape[0]}, activation={act})'\n"
      ]
    },
    {
      "cell_type": "markdown",
      "metadata": {
        "id": "qjDFwaYqYnaZ"
      },
      "source": [
        "### Alright, one down and one to go.\n",
        "Next we will create a class that will combine the layers. It will also hold the loss function and has to calculate the gradient of the loss. For convenience, we will also add a wrapper to add layers and add a way to pretty print our model."
      ]
    },
    {
      "cell_type": "markdown",
      "metadata": {
        "id": "tpp-8fHAYnaZ"
      },
      "source": [
        "First we start again with the constructor, which has two options, the loss function to be used, and the randomMultiplier used for new layers. The loss function are again created in a function reference and are called using wrapper functions.\n",
        "\n",
        "The model starts with no layers (empty).\n",
        "\n",
        "```python\n",
        "class NeuralNetwork:\n",
        "    def __init__(self, loss='cross-entropy', randomMultiplier = 0.01):\n",
        "        self.layers=[]\n",
        "        self.randomMultiplier = randomMultiplier\n",
        "        if loss=='cross-entropy':\n",
        "            self.lossFunction = self.crossEntropyLoss\n",
        "            self.lossBackward = self.crossEntropyLossGrad\n",
        "        elif loss=='mean-square-error':\n",
        "            self.lossFunction = self.meanSquareError\n",
        "            self.lossBackward = self.meanSquareErrorGrad\n",
        "        else:\n",
        "            raise LossFunctionNotDefined\n",
        "        self.loss=loss\n",
        "```\n"
      ]
    },
    {
      "cell_type": "markdown",
      "metadata": {
        "id": "vbcHcWDWYnaa"
      },
      "source": [
        "The next function is a helper function to add layers to the model. You need to give the inputDimension, i.e. the number of input features of the first layer. For the second and further, it will look for the previous layer and use that as the input dimension.\n",
        "\n",
        "You have to specify the number of neurons in the layer (units) and which activation function to use.\n",
        "\n",
        "```python\n",
        "    def addLayer(self, inputDimension=None, units=1, activation=''):\n",
        "        if (inputDimension is None):\n",
        "            if (len(self.layers)==0):\n",
        "                raise InputDimensionNotCorrect\n",
        "            inputDimension=self.layers[-1].outputDimension()\n",
        "        layer = DenseLayer(inputDimension, units, activation, randomMultiplier= self.randomMultiplier)\n",
        "        self.layers.append(layer)\n",
        "```"
      ]
    },
    {
      "cell_type": "markdown",
      "metadata": {
        "id": "6RrD_LoxYnaa"
      },
      "source": [
        "Next we define the loss functions and their differentials. Feel free to check if the differentials are correct. the cost method is a wrapper to cal the cost in the training loop later.\n",
        "\n",
        "```python\n",
        "    def crossEntropyLoss(self, Y, A, epsilon=1e-15):\n",
        "        m = Y.shape[1]\n",
        "        loss = -1 * (Y * np.log(A + epsilon) + (1 - Y) * np.log(1 - A + epsilon))\n",
        "        cost = 1 / m * np.sum(loss)\n",
        "        return np.squeeze(cost)\n",
        "            \n",
        "    def crossEntropyLossGrad(self, Y, A):\n",
        "        dA = -(np.divide(Y, A) - np.divide(1 - Y, 1 - A))\n",
        "        return dA\n",
        "    \n",
        "    \n",
        "    def meanSquareError(self, Y, A):\n",
        "        loss = np.square(Y - A)\n",
        "        m = Y.shape[1]\n",
        "        cost = 1 / m * np.sum(loss)\n",
        "        return np.squeeze(cost)\n",
        "    \n",
        "    def meanSquareErrorGrad(self, Y, A):\n",
        "        dA = -2 * (Y - A)\n",
        "        return dA\n",
        "\n",
        "    \n",
        "    def cost(self, Y, A):\n",
        "        return self.lossFunction(Y, A)\n",
        "```"
      ]
    },
    {
      "cell_type": "markdown",
      "metadata": {
        "id": "rD0CgvgbYnaa"
      },
      "source": [
        "The forward, backward, and update method are quite similar as they loop over the layers:\n",
        "\n",
        "```python\n",
        "    def forward(self, X):\n",
        "        x = np.copy(X)\n",
        "        for layer in self.layers:\n",
        "            x = layer.forward(x)\n",
        "        return x\n",
        "            \n",
        "    \n",
        "    def backward(self, A, Y):\n",
        "        dA = self.lossBackward(Y, A)\n",
        "        for layer in reversed(self.layers):\n",
        "            dA = layer.backward(dA)\n",
        "    \n",
        "    \n",
        "    def update(self, learning_rate=0.01):\n",
        "        for layer in self.layers:\n",
        "            layer.update(learning_rate)\n",
        "```\n",
        "\n",
        "the backward pass first hast to calculate the first dA, which is de gradient between the activation and the real values. This is then looped through the layers to calculate all gradients.\n"
      ]
    },
    {
      "cell_type": "markdown",
      "metadata": {
        "id": "LkZF67zdYnaa"
      },
      "source": [
        "The last two methods are again for pretty printing and one for trainable parameter counting. Nothing special."
      ]
    },
    {
      "cell_type": "markdown",
      "metadata": {
        "id": "OSfKvJ8rYnaa"
      },
      "source": [
        "### The complete NeuralNetwork class"
      ]
    },
    {
      "cell_type": "code",
      "execution_count": 28,
      "metadata": {
        "id": "YjQSvkftYnaa"
      },
      "outputs": [],
      "source": [
        "class NeuralNetwork:\n",
        "    \"\"\"\n",
        "    Neural Network structure that holds our layers\n",
        "    \"\"\"\n",
        "    \n",
        "    def __init__(self, loss='cross-entropy', randomMultiplier = 0.01):\n",
        "        \"\"\"\n",
        "        Constructor:\n",
        "          loss: the loss function. Two are defined:\n",
        "             - 'cross-entropy' and 'mean-square-error'\n",
        "          randomMultiplier: multiplier applied to the random weights during initialization\n",
        "        \"\"\"\n",
        "        self.layers=[]\n",
        "        self.randomMultiplier = randomMultiplier\n",
        "        if loss=='cross-entropy':\n",
        "            self.lossFunction = self.crossEntropyLoss\n",
        "            self.lossBackward = self.crossEntropyLossGrad\n",
        "        elif loss=='mean-square-error':\n",
        "            self.lossFunction = self.meanSquareError\n",
        "            self.lossBackward = self.meanSquareErrorGrad\n",
        "        else:\n",
        "            raise LossFunctionNotDefined\n",
        "        self.loss=loss\n",
        "\n",
        "\n",
        "    def addLayer(self, inputDimension=None, units=1, activation=''):\n",
        "        \"\"\"\n",
        "        Adds a Dense layer to the network:\n",
        "          inputDimension: required when it is the first layer. otherwise takes dimensions of previous layer.\n",
        "          units: number of neurons in the layer\n",
        "          activation: activation function: valid choices are: 'sigmoid', 'tanh', 'relu', ''\n",
        "        \"\"\"\n",
        "        if (inputDimension is None):\n",
        "            if (len(self.layers)==0):\n",
        "                raise InputDimensionNotCorrect\n",
        "            inputDimension=self.layers[-1].outputDimension()\n",
        "        layer = DenseLayer(inputDimension, units, activation, randomMultiplier= self.randomMultiplier)\n",
        "        self.layers.append(layer)\n",
        "\n",
        "    def crossEntropyLoss(self, Y, A, epsilon=1e-15):\n",
        "        \"\"\"\n",
        "        Cross Entropy loss function\n",
        "          Y: true labels\n",
        "          A: final activation function (predicted labels)\n",
        "          epsilon: small value to make minimize chance for log(0) error\n",
        "        \"\"\"\n",
        "        m = Y.shape[1]\n",
        "        loss = -1 * (Y * np.log(A + epsilon) + (1 - Y) * np.log(1 - A + epsilon))\n",
        "        cost = 1 / m * np.sum(loss)\n",
        "        return np.squeeze(cost)\n",
        "            \n",
        "    def crossEntropyLossGrad(self, Y, A):\n",
        "        \"\"\"\n",
        "        Cross Entropy loss Gradient\n",
        "          Y: true labels\n",
        "          A: final activation function (predicted labels)\n",
        "        \"\"\"\n",
        "        dA = -(np.divide(Y, A) - np.divide(1 - Y, 1 - A))\n",
        "        return dA\n",
        "    \n",
        "    \n",
        "    def meanSquareError(self, Y, A):\n",
        "        \"\"\"\n",
        "        Mean square error loss function\n",
        "          Y: true labels\n",
        "          A: final activation function (predicted labels)\n",
        "        \"\"\"\n",
        "        loss = np.square(Y - A)\n",
        "        m = Y.shape[1]\n",
        "        cost = 1 / m * np.sum(loss)\n",
        "        return np.squeeze(cost)\n",
        "    \n",
        "    def meanSquareErrorGrad(self, Y, A):\n",
        "        \"\"\"\n",
        "        Mean square error loss gradient\n",
        "          Y: true labels\n",
        "          A: final activation function (predicted labels)\n",
        "        \"\"\"\n",
        "        dA = -2 * (Y - A)\n",
        "        return dA\n",
        "\n",
        "    \n",
        "    def cost(self, Y, A):\n",
        "        \"\"\"\n",
        "        Cost function wrapper\n",
        "          Y: true labels\n",
        "          A: final activation function (predicted labels)\n",
        "        \"\"\"\n",
        "        return self.lossFunction(Y, A)\n",
        "\n",
        "        \n",
        "    def forward(self, X):\n",
        "        \"\"\"\n",
        "        Forward pass through the whole model.\n",
        "          X: input vector\n",
        "        \"\"\"\n",
        "        x = np.copy(X)\n",
        "        for layer in self.layers:\n",
        "            x = layer.forward(x)\n",
        "        return x\n",
        "            \n",
        "    \n",
        "    def backward(self, A, Y):\n",
        "        \"\"\"\n",
        "        backward pass through the whole model\n",
        "          Y: true labels\n",
        "          A: final activation function (predicted labels)\n",
        "        \"\"\"\n",
        "        dA = self.lossBackward(Y, A)\n",
        "        for layer in reversed(self.layers):\n",
        "            dA = layer.backward(dA)\n",
        "    \n",
        "    \n",
        "    def update(self, learning_rate=0.01):\n",
        "        \"\"\"\n",
        "        Update weights and do a step of gradient descent for the whole model.\n",
        "          learning_rate: learning_rate to use\n",
        "        \"\"\"\n",
        "        for layer in self.layers:\n",
        "            layer.update(learning_rate)\n",
        "    \n",
        "    \n",
        "    def __repr__(self):\n",
        "        \"\"\"\n",
        "        Pretty print the model\n",
        "        \"\"\"\n",
        "        layrepr = ['  ' + str(ix+1)+' -> ' + str(x) for ix, x in enumerate(self.layers)]\n",
        "        return '[\\n' + '\\n'.join(layrepr) + '\\n]'\n",
        "   \n",
        "    \n",
        "    def numberOfParameters(self):\n",
        "        \"\"\"\n",
        "        Print number of trainable parameters in the model\n",
        "        \"\"\"\n",
        "        n = 0\n",
        "        for layer in self.layers:\n",
        "            n += np.size(layer.weights) + len(layer.bias)\n",
        "        print(f'There are {n} trainable parameters in the model.')\n",
        "            "
      ]
    },
    {
      "cell_type": "markdown",
      "metadata": {
        "id": "jPsr5O_CYnab"
      },
      "source": [
        "Alright, the classes are done. Now we need to put these classes to a test. While it looks quite ordered, a small error in one of the differentials can make our whole system useless. Therefore, we will test in small steps in the next section. Looking forward for the spin!"
      ]
    },
    {
      "cell_type": "markdown",
      "metadata": {
        "id": "Jw8S1-8LYnab"
      },
      "source": [
        "## 1. Does it do what it is supposed to do?"
      ]
    },
    {
      "cell_type": "markdown",
      "metadata": {
        "id": "2qIYXx9VYnab"
      },
      "source": [
        "Nothing is more ennoying than waiting for nothing. Therefore, it is important to first test the easy things instead of training for hours to see that you made a mistake in the loss function. Let us repeat the experiments from last time"
      ]
    },
    {
      "cell_type": "markdown",
      "metadata": {
        "id": "guiYfD2PYnab"
      },
      "source": [
        "### Linear regression: 25 all over again!"
      ]
    },
    {
      "cell_type": "markdown",
      "metadata": {
        "id": "E-4wqNarYnac"
      },
      "source": [
        "We created an array with a couple of input values $X$. Next we supplied $Y$ using the super duper complicated formula $y = 2x + 1$. In Numpy this looks like this:"
      ]
    },
    {
      "cell_type": "code",
      "execution_count": 29,
      "metadata": {
        "id": "WwPq6Dk8Ynac"
      },
      "outputs": [],
      "source": [
        "X = np.arange(-2, 5, 1).reshape([1, 7]) # Columns as examples\n",
        "Y = 2 * X + 1"
      ]
    },
    {
      "cell_type": "markdown",
      "metadata": {
        "id": "SQJQ60yrYnac"
      },
      "source": [
        "Now we will build our model which will try to find our difficult formula and match the true value of 25. For this we will initiate our fresh class and set the loss to mean-square-error. Next we will add a single layer, with a single neuron and no activation function. Lets also try our pretty print :-)"
      ]
    },
    {
      "cell_type": "code",
      "execution_count": 30,
      "metadata": {
        "colab": {
          "base_uri": "https://localhost:8080/"
        },
        "id": "9oBvjh0iYnac",
        "outputId": "b37a7d53-8e34-4d30-bc0a-d465564aefb2"
      },
      "outputs": [
        {
          "output_type": "execute_result",
          "data": {
            "text/plain": [
              "[\n",
              "  1 -> Dense layer (nx=1, nh=1, activation=none)\n",
              "]"
            ]
          },
          "metadata": {},
          "execution_count": 30
        }
      ],
      "source": [
        "np.random.seed(1)\n",
        "\n",
        "model = NeuralNetwork(loss='mean-square-error')\n",
        "model.addLayer(inputDimension=1, units=1, activation='')\n",
        "model"
      ]
    },
    {
      "cell_type": "markdown",
      "metadata": {
        "id": "mxLEd262Ynac"
      },
      "source": [
        "Now we will need our training loop again. It will look very familiar to our logistic regression model from last time:"
      ]
    },
    {
      "cell_type": "code",
      "execution_count": 31,
      "metadata": {
        "colab": {
          "base_uri": "https://localhost:8080/"
        },
        "id": "i3QrXRjoYnac",
        "outputId": "f32b10fb-44a1-41cc-bc48-8bff78cabd6c"
      },
      "outputs": [
        {
          "output_type": "stream",
          "name": "stdout",
          "text": [
            "cost: 24.643963268924306\n",
            "cost: 0.009408179907957642\n",
            "cost: 0.00043269013393172113\n",
            "cost: 1.989979716251954e-05\n",
            "cost: 9.152090515935006e-07\n",
            "cost: 4.2091263608210285e-08\n",
            "cost: 1.935813975001762e-09\n",
            "cost: 8.902977540761639e-11\n",
            "cost: 4.094557128292547e-12\n",
            "cost: 1.8831225851087109e-13\n"
          ]
        }
      ],
      "source": [
        "num_iterations = 1000\n",
        "for ix in range(num_iterations):\n",
        "    A = model.forward(X)\n",
        "    model.backward(A, Y)\n",
        "    model.update()\n",
        "    if ix % 100 == 0:\n",
        "        print('cost:', model.cost(Y, A)) "
      ]
    },
    {
      "cell_type": "markdown",
      "metadata": {
        "id": "KdAIEiusYnac"
      },
      "source": [
        "The cost decreases as expected and due to the long training the value is close to machine precision. Would we again find 25 when we use the forward?"
      ]
    },
    {
      "cell_type": "code",
      "execution_count": 32,
      "metadata": {
        "colab": {
          "base_uri": "https://localhost:8080/"
        },
        "id": "UVBDmEHKYnac",
        "outputId": "b1c5e2dd-212a-4e81-d252-6fa968e71f64"
      },
      "outputs": [
        {
          "output_type": "execute_result",
          "data": {
            "text/plain": [
              "array([[25.00000019]])"
            ]
          },
          "metadata": {},
          "execution_count": 32
        }
      ],
      "source": [
        "model.forward(12)"
      ]
    },
    {
      "cell_type": "markdown",
      "metadata": {
        "id": "bIyoz_XPYnac"
      },
      "source": [
        "Of course we do!"
      ]
    },
    {
      "cell_type": "markdown",
      "metadata": {
        "id": "E5tZrqrYYnad"
      },
      "source": [
        "### A go at our Titanic dataset"
      ]
    },
    {
      "cell_type": "code",
      "execution_count": 33,
      "metadata": {
        "id": "dYQ-sdC3Ynad"
      },
      "outputs": [],
      "source": [
        "df = pd.read_csv('./data/titanic/train_data.csv')\n",
        "df = df.drop(['Unnamed: 0', 'PassengerId'], axis=1)\n",
        "Y = df['Survived'].to_numpy().reshape([1, -1])\n",
        "X = df.drop(columns = 'Survived')\n",
        "X = df.iloc[:,1:].to_numpy().T"
      ]
    },
    {
      "cell_type": "code",
      "execution_count": null,
      "metadata": {
        "colab": {
          "base_uri": "https://localhost:8080/"
        },
        "id": "ankU5ItgYnad",
        "outputId": "9e1b19b9-a5f0-4447-e619-73ea1944a8b4"
      },
      "outputs": [
        {
          "data": {
            "text/plain": [
              "(14, 792)"
            ]
          },
          "execution_count": 12,
          "metadata": {},
          "output_type": "execute_result"
        }
      ],
      "source": [
        "X.shape"
      ]
    },
    {
      "cell_type": "code",
      "execution_count": null,
      "metadata": {
        "colab": {
          "base_uri": "https://localhost:8080/"
        },
        "id": "KtAjMP9ZYnad",
        "outputId": "0e124288-cb78-4431-f6b3-e780ce075b6a"
      },
      "outputs": [
        {
          "data": {
            "text/plain": [
              "(1, 792)"
            ]
          },
          "execution_count": 13,
          "metadata": {},
          "output_type": "execute_result"
        }
      ],
      "source": [
        "Y.shape"
      ]
    },
    {
      "cell_type": "markdown",
      "metadata": {
        "id": "GTx3KGp8Ynad"
      },
      "source": [
        "We need to change the model to have 14 input features and of course the sigmoid activation function. The loss function will be cross-entropy, which is the default, so we do not need to specify it."
      ]
    },
    {
      "cell_type": "code",
      "execution_count": 34,
      "metadata": {
        "colab": {
          "base_uri": "https://localhost:8080/"
        },
        "id": "N9nNSPKuYnad",
        "outputId": "0b73681e-f8b9-4c02-8fdc-d8f4a22e56e9"
      },
      "outputs": [
        {
          "output_type": "execute_result",
          "data": {
            "text/plain": [
              "[\n",
              "  1 -> Dense layer (nx=14, nh=1, activation=sigmoid)\n",
              "]"
            ]
          },
          "metadata": {},
          "execution_count": 34
        }
      ],
      "source": [
        "np.random.seed(1)\n",
        "\n",
        "model = NeuralNetwork()\n",
        "model.addLayer(inputDimension=14, units=1, activation='sigmoid')\n",
        "model"
      ]
    },
    {
      "cell_type": "markdown",
      "metadata": {
        "id": "goC62oqsYnae"
      },
      "source": [
        "Last time, we had an train accuracy of 80%. Can we match this as well?"
      ]
    },
    {
      "cell_type": "code",
      "execution_count": 35,
      "metadata": {
        "id": "GQnG-K6bYnae"
      },
      "outputs": [],
      "source": [
        "def roundValue(A):\n",
        "    return np.uint8( A > 0.5)\n",
        "\n",
        "def accuracy(yhat, Y):\n",
        "    return round(np.sum(yhat==Y) / len(yhat.flatten()) * 1000) / 10"
      ]
    },
    {
      "cell_type": "code",
      "execution_count": 36,
      "metadata": {
        "colab": {
          "base_uri": "https://localhost:8080/"
        },
        "id": "m9BHPKlIYnae",
        "outputId": "c03ed4eb-5471-4ce9-8548-c8ec3cdde0e4"
      },
      "outputs": [
        {
          "output_type": "stream",
          "name": "stdout",
          "text": [
            "cost: 0.6912384614194468 \taccuracy: 58.7%\n",
            "cost: 0.5140056920509907 \taccuracy: 75.9%\n",
            "cost: 0.4824062497934129 \taccuracy: 79.5%\n",
            "cost: 0.4697113881273363 \taccuracy: 79.5%\n",
            "cost: 0.46275860969195476 \taccuracy: 79.8%\n",
            "cost: 0.45807429458700816 \taccuracy: 79.8%\n",
            "cost: 0.4544915367177524 \taccuracy: 79.8%\n",
            "cost: 0.4515471545581365 \taccuracy: 80.8%\n"
          ]
        }
      ],
      "source": [
        "num_iterations = 8000\n",
        "for ix in range(num_iterations):\n",
        "    A = model.forward(X)\n",
        "    model.backward(A, Y)\n",
        "    model.update()\n",
        "    if ix % 1000 == 0:\n",
        "        yhat = roundValue(A)\n",
        "        print('cost:', model.cost(Y, A), f'\\taccuracy: {accuracy(yhat, Y)}%')     "
      ]
    },
    {
      "cell_type": "markdown",
      "metadata": {
        "id": "NoGuzd8JqEMv"
      },
      "source": [
        "upload HW2_data.zip"
      ]
    },
    {
      "cell_type": "code",
      "execution_count": null,
      "metadata": {
        "id": "tMtRI79Up30m"
      },
      "outputs": [],
      "source": [
        "# !unzip /content/HW2_data.zip"
      ]
    },
    {
      "cell_type": "markdown",
      "metadata": {
        "id": "dhwpjVLgYnae"
      },
      "source": [
        "Of course we can!"
      ]
    },
    {
      "cell_type": "markdown",
      "metadata": {
        "id": "PUrkSv1vSaRQ"
      },
      "source": [
        "## Q1: We will now implement customization via Keras as the examples above are specific to their respective datasets and are for example only to work through for learning purposes only. **They will not properly run if customized** (25 points)"
      ]
    },
    {
      "cell_type": "code",
      "execution_count": 37,
      "metadata": {
        "id": "qwAdEE9sSwUH"
      },
      "outputs": [],
      "source": [
        "# Prerequisite library imports\n",
        "import pandas as pd\n",
        "from sklearn.model_selection import train_test_split\n",
        "from keras.models import Sequential\n",
        "from keras.layers import Dense\n",
        "import seaborn as sns\n",
        "from sklearn.preprocessing import MinMaxScaler, StandardScaler\n",
        "\n",
        "df = pd.read_csv('./data/titanic/train_data.csv')\n",
        "X = df.drop(['Unnamed: 0', 'PassengerId'], axis=1)\n",
        "y = df['Survived']\n",
        "X = X.drop(columns = 'Survived')"
      ]
    },
    {
      "cell_type": "markdown",
      "metadata": {
        "id": "LVC85pIxYnae"
      },
      "source": [
        "### 1.1) Above we use the Keras libraries to build the model. Here we want to implement a form of scaling to your data either through minmax normalization or z-score standardization using the sklearn.preprocessing libraries (MinMaxScalar or StandardScaler). Justify why you chose one over the other. If the data is already scaled, you still must choose to normalize or standardize. (10 points) "
      ]
    },
    {
      "cell_type": "code",
      "execution_count": 4,
      "metadata": {
        "colab": {
          "base_uri": "https://localhost:8080/"
        },
        "id": "fBs1UvV9rYC6",
        "outputId": "520fca90-4dcd-4d96-9a84-d43b51940b5c"
      },
      "outputs": [
        {
          "output_type": "execute_result",
          "data": {
            "text/plain": [
              "Index(['Sex', 'Age', 'Fare', 'Pclass_1', 'Pclass_2', 'Pclass_3', 'Family_size',\n",
              "       'Title_1', 'Title_2', 'Title_3', 'Title_4', 'Emb_1', 'Emb_2', 'Emb_3'],\n",
              "      dtype='object')"
            ]
          },
          "metadata": {},
          "execution_count": 4
        }
      ],
      "source": [
        "X.columns"
      ]
    },
    {
      "cell_type": "code",
      "execution_count": 5,
      "metadata": {
        "colab": {
          "base_uri": "https://localhost:8080/",
          "height": 344
        },
        "id": "ipFviqQ7sbxa",
        "outputId": "099e3c7a-3aa1-4b99-b6d5-78837ae320b0"
      },
      "outputs": [
        {
          "output_type": "execute_result",
          "data": {
            "text/plain": [
              "              Sex         Age        Fare    Pclass_1    Pclass_2    Pclass_3  \\\n",
              "count  792.000000  792.000000  792.000000  792.000000  792.000000  792.000000   \n",
              "mean     0.647727    0.368244    0.064677    0.243687    0.208333    0.547980   \n",
              "std      0.477980    0.162994    0.100987    0.429577    0.406373    0.498007   \n",
              "min      0.000000    0.008375    0.000000    0.000000    0.000000    0.000000   \n",
              "25%      0.000000    0.275000    0.015469    0.000000    0.000000    0.000000   \n",
              "50%      1.000000    0.350000    0.028302    0.000000    0.000000    1.000000   \n",
              "75%      1.000000    0.437500    0.061045    0.000000    0.000000    1.000000   \n",
              "max      1.000000    1.000000    1.000000    1.000000    1.000000    1.000000   \n",
              "\n",
              "       Family_size     Title_1     Title_2     Title_3     Title_4  \\\n",
              "count   792.000000  792.000000  792.000000  792.000000  792.000000   \n",
              "mean      0.088636    0.744949    0.005051    0.040404    0.209596   \n",
              "std       0.154485    0.436165    0.070932    0.197029    0.407277   \n",
              "min       0.000000    0.000000    0.000000    0.000000    0.000000   \n",
              "25%       0.000000    0.000000    0.000000    0.000000    0.000000   \n",
              "50%       0.000000    1.000000    0.000000    0.000000    0.000000   \n",
              "75%       0.100000    1.000000    0.000000    0.000000    0.000000   \n",
              "max       1.000000    1.000000    1.000000    1.000000    1.000000   \n",
              "\n",
              "            Emb_1       Emb_2       Emb_3  \n",
              "count  792.000000  792.000000  792.000000  \n",
              "mean     0.185606    0.092172    0.720960  \n",
              "std      0.389034    0.289451    0.448811  \n",
              "min      0.000000    0.000000    0.000000  \n",
              "25%      0.000000    0.000000    0.000000  \n",
              "50%      0.000000    0.000000    1.000000  \n",
              "75%      0.000000    0.000000    1.000000  \n",
              "max      1.000000    1.000000    1.000000  "
            ],
            "text/html": [
              "\n",
              "  <div id=\"df-2ab21f3e-bce5-48e9-9202-00f1c22a0b10\">\n",
              "    <div class=\"colab-df-container\">\n",
              "      <div>\n",
              "<style scoped>\n",
              "    .dataframe tbody tr th:only-of-type {\n",
              "        vertical-align: middle;\n",
              "    }\n",
              "\n",
              "    .dataframe tbody tr th {\n",
              "        vertical-align: top;\n",
              "    }\n",
              "\n",
              "    .dataframe thead th {\n",
              "        text-align: right;\n",
              "    }\n",
              "</style>\n",
              "<table border=\"1\" class=\"dataframe\">\n",
              "  <thead>\n",
              "    <tr style=\"text-align: right;\">\n",
              "      <th></th>\n",
              "      <th>Sex</th>\n",
              "      <th>Age</th>\n",
              "      <th>Fare</th>\n",
              "      <th>Pclass_1</th>\n",
              "      <th>Pclass_2</th>\n",
              "      <th>Pclass_3</th>\n",
              "      <th>Family_size</th>\n",
              "      <th>Title_1</th>\n",
              "      <th>Title_2</th>\n",
              "      <th>Title_3</th>\n",
              "      <th>Title_4</th>\n",
              "      <th>Emb_1</th>\n",
              "      <th>Emb_2</th>\n",
              "      <th>Emb_3</th>\n",
              "    </tr>\n",
              "  </thead>\n",
              "  <tbody>\n",
              "    <tr>\n",
              "      <th>count</th>\n",
              "      <td>792.000000</td>\n",
              "      <td>792.000000</td>\n",
              "      <td>792.000000</td>\n",
              "      <td>792.000000</td>\n",
              "      <td>792.000000</td>\n",
              "      <td>792.000000</td>\n",
              "      <td>792.000000</td>\n",
              "      <td>792.000000</td>\n",
              "      <td>792.000000</td>\n",
              "      <td>792.000000</td>\n",
              "      <td>792.000000</td>\n",
              "      <td>792.000000</td>\n",
              "      <td>792.000000</td>\n",
              "      <td>792.000000</td>\n",
              "    </tr>\n",
              "    <tr>\n",
              "      <th>mean</th>\n",
              "      <td>0.647727</td>\n",
              "      <td>0.368244</td>\n",
              "      <td>0.064677</td>\n",
              "      <td>0.243687</td>\n",
              "      <td>0.208333</td>\n",
              "      <td>0.547980</td>\n",
              "      <td>0.088636</td>\n",
              "      <td>0.744949</td>\n",
              "      <td>0.005051</td>\n",
              "      <td>0.040404</td>\n",
              "      <td>0.209596</td>\n",
              "      <td>0.185606</td>\n",
              "      <td>0.092172</td>\n",
              "      <td>0.720960</td>\n",
              "    </tr>\n",
              "    <tr>\n",
              "      <th>std</th>\n",
              "      <td>0.477980</td>\n",
              "      <td>0.162994</td>\n",
              "      <td>0.100987</td>\n",
              "      <td>0.429577</td>\n",
              "      <td>0.406373</td>\n",
              "      <td>0.498007</td>\n",
              "      <td>0.154485</td>\n",
              "      <td>0.436165</td>\n",
              "      <td>0.070932</td>\n",
              "      <td>0.197029</td>\n",
              "      <td>0.407277</td>\n",
              "      <td>0.389034</td>\n",
              "      <td>0.289451</td>\n",
              "      <td>0.448811</td>\n",
              "    </tr>\n",
              "    <tr>\n",
              "      <th>min</th>\n",
              "      <td>0.000000</td>\n",
              "      <td>0.008375</td>\n",
              "      <td>0.000000</td>\n",
              "      <td>0.000000</td>\n",
              "      <td>0.000000</td>\n",
              "      <td>0.000000</td>\n",
              "      <td>0.000000</td>\n",
              "      <td>0.000000</td>\n",
              "      <td>0.000000</td>\n",
              "      <td>0.000000</td>\n",
              "      <td>0.000000</td>\n",
              "      <td>0.000000</td>\n",
              "      <td>0.000000</td>\n",
              "      <td>0.000000</td>\n",
              "    </tr>\n",
              "    <tr>\n",
              "      <th>25%</th>\n",
              "      <td>0.000000</td>\n",
              "      <td>0.275000</td>\n",
              "      <td>0.015469</td>\n",
              "      <td>0.000000</td>\n",
              "      <td>0.000000</td>\n",
              "      <td>0.000000</td>\n",
              "      <td>0.000000</td>\n",
              "      <td>0.000000</td>\n",
              "      <td>0.000000</td>\n",
              "      <td>0.000000</td>\n",
              "      <td>0.000000</td>\n",
              "      <td>0.000000</td>\n",
              "      <td>0.000000</td>\n",
              "      <td>0.000000</td>\n",
              "    </tr>\n",
              "    <tr>\n",
              "      <th>50%</th>\n",
              "      <td>1.000000</td>\n",
              "      <td>0.350000</td>\n",
              "      <td>0.028302</td>\n",
              "      <td>0.000000</td>\n",
              "      <td>0.000000</td>\n",
              "      <td>1.000000</td>\n",
              "      <td>0.000000</td>\n",
              "      <td>1.000000</td>\n",
              "      <td>0.000000</td>\n",
              "      <td>0.000000</td>\n",
              "      <td>0.000000</td>\n",
              "      <td>0.000000</td>\n",
              "      <td>0.000000</td>\n",
              "      <td>1.000000</td>\n",
              "    </tr>\n",
              "    <tr>\n",
              "      <th>75%</th>\n",
              "      <td>1.000000</td>\n",
              "      <td>0.437500</td>\n",
              "      <td>0.061045</td>\n",
              "      <td>0.000000</td>\n",
              "      <td>0.000000</td>\n",
              "      <td>1.000000</td>\n",
              "      <td>0.100000</td>\n",
              "      <td>1.000000</td>\n",
              "      <td>0.000000</td>\n",
              "      <td>0.000000</td>\n",
              "      <td>0.000000</td>\n",
              "      <td>0.000000</td>\n",
              "      <td>0.000000</td>\n",
              "      <td>1.000000</td>\n",
              "    </tr>\n",
              "    <tr>\n",
              "      <th>max</th>\n",
              "      <td>1.000000</td>\n",
              "      <td>1.000000</td>\n",
              "      <td>1.000000</td>\n",
              "      <td>1.000000</td>\n",
              "      <td>1.000000</td>\n",
              "      <td>1.000000</td>\n",
              "      <td>1.000000</td>\n",
              "      <td>1.000000</td>\n",
              "      <td>1.000000</td>\n",
              "      <td>1.000000</td>\n",
              "      <td>1.000000</td>\n",
              "      <td>1.000000</td>\n",
              "      <td>1.000000</td>\n",
              "      <td>1.000000</td>\n",
              "    </tr>\n",
              "  </tbody>\n",
              "</table>\n",
              "</div>\n",
              "      <button class=\"colab-df-convert\" onclick=\"convertToInteractive('df-2ab21f3e-bce5-48e9-9202-00f1c22a0b10')\"\n",
              "              title=\"Convert this dataframe to an interactive table.\"\n",
              "              style=\"display:none;\">\n",
              "        \n",
              "  <svg xmlns=\"http://www.w3.org/2000/svg\" height=\"24px\"viewBox=\"0 0 24 24\"\n",
              "       width=\"24px\">\n",
              "    <path d=\"M0 0h24v24H0V0z\" fill=\"none\"/>\n",
              "    <path d=\"M18.56 5.44l.94 2.06.94-2.06 2.06-.94-2.06-.94-.94-2.06-.94 2.06-2.06.94zm-11 1L8.5 8.5l.94-2.06 2.06-.94-2.06-.94L8.5 2.5l-.94 2.06-2.06.94zm10 10l.94 2.06.94-2.06 2.06-.94-2.06-.94-.94-2.06-.94 2.06-2.06.94z\"/><path d=\"M17.41 7.96l-1.37-1.37c-.4-.4-.92-.59-1.43-.59-.52 0-1.04.2-1.43.59L10.3 9.45l-7.72 7.72c-.78.78-.78 2.05 0 2.83L4 21.41c.39.39.9.59 1.41.59.51 0 1.02-.2 1.41-.59l7.78-7.78 2.81-2.81c.8-.78.8-2.07 0-2.86zM5.41 20L4 18.59l7.72-7.72 1.47 1.35L5.41 20z\"/>\n",
              "  </svg>\n",
              "      </button>\n",
              "      \n",
              "  <style>\n",
              "    .colab-df-container {\n",
              "      display:flex;\n",
              "      flex-wrap:wrap;\n",
              "      gap: 12px;\n",
              "    }\n",
              "\n",
              "    .colab-df-convert {\n",
              "      background-color: #E8F0FE;\n",
              "      border: none;\n",
              "      border-radius: 50%;\n",
              "      cursor: pointer;\n",
              "      display: none;\n",
              "      fill: #1967D2;\n",
              "      height: 32px;\n",
              "      padding: 0 0 0 0;\n",
              "      width: 32px;\n",
              "    }\n",
              "\n",
              "    .colab-df-convert:hover {\n",
              "      background-color: #E2EBFA;\n",
              "      box-shadow: 0px 1px 2px rgba(60, 64, 67, 0.3), 0px 1px 3px 1px rgba(60, 64, 67, 0.15);\n",
              "      fill: #174EA6;\n",
              "    }\n",
              "\n",
              "    [theme=dark] .colab-df-convert {\n",
              "      background-color: #3B4455;\n",
              "      fill: #D2E3FC;\n",
              "    }\n",
              "\n",
              "    [theme=dark] .colab-df-convert:hover {\n",
              "      background-color: #434B5C;\n",
              "      box-shadow: 0px 1px 3px 1px rgba(0, 0, 0, 0.15);\n",
              "      filter: drop-shadow(0px 1px 2px rgba(0, 0, 0, 0.3));\n",
              "      fill: #FFFFFF;\n",
              "    }\n",
              "  </style>\n",
              "\n",
              "      <script>\n",
              "        const buttonEl =\n",
              "          document.querySelector('#df-2ab21f3e-bce5-48e9-9202-00f1c22a0b10 button.colab-df-convert');\n",
              "        buttonEl.style.display =\n",
              "          google.colab.kernel.accessAllowed ? 'block' : 'none';\n",
              "\n",
              "        async function convertToInteractive(key) {\n",
              "          const element = document.querySelector('#df-2ab21f3e-bce5-48e9-9202-00f1c22a0b10');\n",
              "          const dataTable =\n",
              "            await google.colab.kernel.invokeFunction('convertToInteractive',\n",
              "                                                     [key], {});\n",
              "          if (!dataTable) return;\n",
              "\n",
              "          const docLinkHtml = 'Like what you see? Visit the ' +\n",
              "            '<a target=\"_blank\" href=https://colab.research.google.com/notebooks/data_table.ipynb>data table notebook</a>'\n",
              "            + ' to learn more about interactive tables.';\n",
              "          element.innerHTML = '';\n",
              "          dataTable['output_type'] = 'display_data';\n",
              "          await google.colab.output.renderOutput(dataTable, element);\n",
              "          const docLink = document.createElement('div');\n",
              "          docLink.innerHTML = docLinkHtml;\n",
              "          element.appendChild(docLink);\n",
              "        }\n",
              "      </script>\n",
              "    </div>\n",
              "  </div>\n",
              "  "
            ]
          },
          "metadata": {},
          "execution_count": 5
        }
      ],
      "source": [
        "X.describe()"
      ]
    },
    {
      "cell_type": "code",
      "execution_count": 38,
      "metadata": {
        "id": "c4f1E7_QnuJE"
      },
      "outputs": [],
      "source": [
        "scaler = MinMaxScaler()\n",
        "X = scaler.fit_transform(X)"
      ]
    },
    {
      "cell_type": "markdown",
      "metadata": {
        "id": "ffpvxCvWxUCC"
      },
      "source": [
        "The data is already almost entirely scaled between 0 and 1 (from the describe() above with only 1 small exception: age. I choose to do MinMax normalization because it will give me a range of values constrained to be between 0 and 1, meaning that the neural network will receive only certain values. "
      ]
    },
    {
      "cell_type": "code",
      "execution_count": 39,
      "metadata": {
        "colab": {
          "base_uri": "https://localhost:8080/"
        },
        "id": "WQ-e3aXZYtIa",
        "outputId": "ad009639-5beb-4d1c-f481-58d69374b340"
      },
      "outputs": [
        {
          "output_type": "stream",
          "name": "stdout",
          "text": [
            "(633, 14)\n",
            "(633,)\n"
          ]
        }
      ],
      "source": [
        "X_train, X_test, y_train, y_test = train_test_split(X, y, test_size=0.2, random_state=21)\n",
        "print(X_train.shape)\n",
        "print(y_train.shape)"
      ]
    },
    {
      "cell_type": "markdown",
      "metadata": {
        "id": "6ru-Sg5jYnae"
      },
      "source": [
        "### 1.2) Using train data above create a model using different activation functions by setting MYACTIVATIONFXN: (10 points) \n",
        "\n",
        "```python\n",
        "# Hint! Start with model.add(Dense(units = 16, activation = 'relu', input_dim = ?))\n",
        "# Make sure the input_dim parameter is set to the number of features in your X matrix.\n",
        "MYACTIVATIONFXN = 'SOMEFXN'\n",
        "model.add(Dense(units = 14, activation = MYACTIVATIONFXN, input_dim = ?)) # input dimension should be the number of features\n",
        "```\n"
      ]
    },
    {
      "cell_type": "code",
      "execution_count": 40,
      "metadata": {
        "id": "m4F3PTV0Fjhp"
      },
      "outputs": [],
      "source": [
        "MYACTIVATIONFXN = 'relu'\n",
        "model = Sequential()\n",
        "model.add(Dense(units = 16, activation = MYACTIVATIONFXN, input_dim = X_train.shape[1]))\n",
        "model.add(Dense(units = 1, activation = \"sigmoid\", input_dim = X_train.shape[1]))"
      ]
    },
    {
      "cell_type": "code",
      "execution_count": 41,
      "metadata": {
        "id": "U6D4qvTGYnaf"
      },
      "outputs": [],
      "source": [
        "# If you decide to initially use a sigmoid, make sure the number of units matches the number of targets\n",
        "# in this case we only have 1 target so for sigmoid you need to set units to 1\n",
        "#MYACTIVATIONFXN = ''\n",
        "#model.add(Dense(units = 1, activation = MYACTIVATIONFXN, input_dim = ?))\n",
        "\n",
        "# Let's initialize our model\n",
        "my_activation = 'tanh'\n",
        "\n",
        "my_model = Sequential() # Initialising the ANN\n",
        "my_model.add(Dense(units = 16, activation = my_activation, input_dim = X_train.shape[1])) # input dimension should be the number of features\n",
        "my_model.add(Dense(units = 1, activation = \"sigmoid\", input_dim = X_train.shape[1]))"
      ]
    },
    {
      "cell_type": "markdown",
      "metadata": {
        "id": "yfInuSI-UH0O"
      },
      "source": [
        "### Now lets compile our model using the function compile\n",
        "### Here we will use rmsprop as an optimizer and binary crossentropy as our loss function"
      ]
    },
    {
      "cell_type": "code",
      "execution_count": 42,
      "metadata": {
        "id": "FPF064_rUIGk"
      },
      "outputs": [],
      "source": [
        "model.compile(optimizer = 'rmsprop', loss = 'binary_crossentropy')\n",
        "my_model.compile(optimizer = 'rmsprop', loss = 'binary_crossentropy')"
      ]
    },
    {
      "cell_type": "markdown",
      "metadata": {
        "id": "8xXvT24DUlRF"
      },
      "source": [
        "### Here we will run our ANN using the fit function using a batch size of 1 and 10 epochs (In the examples above iterations is used instead of epochs). Feel free to play with batch_size and epochs."
      ]
    },
    {
      "cell_type": "code",
      "execution_count": 43,
      "metadata": {
        "colab": {
          "base_uri": "https://localhost:8080/"
        },
        "id": "ELg4LXeYUpdx",
        "outputId": "26c4e040-c071-4292-c65c-42ec9a59aa77"
      },
      "outputs": [
        {
          "output_type": "stream",
          "name": "stdout",
          "text": [
            "Epoch 1/10\n",
            "633/633 [==============================] - 2s 2ms/step - loss: 0.6302\n",
            "Epoch 2/10\n",
            "633/633 [==============================] - 1s 2ms/step - loss: 0.5385\n",
            "Epoch 3/10\n",
            "633/633 [==============================] - 1s 2ms/step - loss: 0.4971\n",
            "Epoch 4/10\n",
            "633/633 [==============================] - 1s 2ms/step - loss: 0.4794\n",
            "Epoch 5/10\n",
            "633/633 [==============================] - 1s 2ms/step - loss: 0.4676\n",
            "Epoch 6/10\n",
            "633/633 [==============================] - 1s 2ms/step - loss: 0.4651\n",
            "Epoch 7/10\n",
            "633/633 [==============================] - 1s 2ms/step - loss: 0.4606\n",
            "Epoch 8/10\n",
            "633/633 [==============================] - 1s 2ms/step - loss: 0.4505\n",
            "Epoch 9/10\n",
            "633/633 [==============================] - 1s 2ms/step - loss: 0.4501\n",
            "Epoch 10/10\n",
            "633/633 [==============================] - 1s 2ms/step - loss: 0.4430\n"
          ]
        },
        {
          "output_type": "execute_result",
          "data": {
            "text/plain": [
              "<keras.callbacks.History at 0x7f3d7b289750>"
            ]
          },
          "metadata": {},
          "execution_count": 43
        }
      ],
      "source": [
        "model.fit(X_train.astype('float'), y_train, batch_size = 1, epochs = 10)"
      ]
    },
    {
      "cell_type": "code",
      "execution_count": 44,
      "metadata": {
        "colab": {
          "base_uri": "https://localhost:8080/"
        },
        "id": "x3U55a6zHHHI",
        "outputId": "b209ddc5-6549-46df-b3be-5ad3a7809107"
      },
      "outputs": [
        {
          "output_type": "stream",
          "name": "stdout",
          "text": [
            "Epoch 1/10\n",
            "633/633 [==============================] - 2s 2ms/step - loss: 0.5791\n",
            "Epoch 2/10\n",
            "633/633 [==============================] - 1s 2ms/step - loss: 0.4872\n",
            "Epoch 3/10\n",
            "633/633 [==============================] - 1s 2ms/step - loss: 0.4736\n",
            "Epoch 4/10\n",
            "633/633 [==============================] - 1s 2ms/step - loss: 0.4712\n",
            "Epoch 5/10\n",
            "633/633 [==============================] - 1s 2ms/step - loss: 0.4652\n",
            "Epoch 6/10\n",
            "633/633 [==============================] - 2s 3ms/step - loss: 0.4639\n",
            "Epoch 7/10\n",
            "633/633 [==============================] - 1s 2ms/step - loss: 0.4573\n",
            "Epoch 8/10\n",
            "633/633 [==============================] - 1s 2ms/step - loss: 0.4605\n",
            "Epoch 9/10\n",
            "633/633 [==============================] - 1s 2ms/step - loss: 0.4580\n",
            "Epoch 10/10\n",
            "633/633 [==============================] - 1s 2ms/step - loss: 0.4567\n"
          ]
        },
        {
          "output_type": "execute_result",
          "data": {
            "text/plain": [
              "<keras.callbacks.History at 0x7f3d78789510>"
            ]
          },
          "metadata": {},
          "execution_count": 44
        }
      ],
      "source": [
        "my_model.fit(X_train.astype('float'), y_train, batch_size = 1, epochs = 10)"
      ]
    },
    {
      "cell_type": "code",
      "execution_count": 45,
      "metadata": {
        "colab": {
          "base_uri": "https://localhost:8080/"
        },
        "id": "X7QszsIHCZ7c",
        "outputId": "932ef10f-a02a-40de-9235-ac4069e63e52"
      },
      "outputs": [
        {
          "output_type": "stream",
          "name": "stdout",
          "text": [
            "5/5 [==============================] - 0s 2ms/step\n",
            "5/5 [==============================] - 0s 2ms/step\n"
          ]
        }
      ],
      "source": [
        "#y_test.shape, X_test.shape \n",
        "model_yhat = model.predict(X_test)\n",
        "my_model_yhat = my_model.predict(X_test)"
      ]
    },
    {
      "cell_type": "code",
      "execution_count": 46,
      "metadata": {
        "colab": {
          "base_uri": "https://localhost:8080/"
        },
        "id": "BIns6YaHV3u8",
        "outputId": "983535b5-10da-43f2-c728-e40243d363d4"
      },
      "outputs": [
        {
          "output_type": "execute_result",
          "data": {
            "text/plain": [
              "((159,), (159, 1))"
            ]
          },
          "metadata": {},
          "execution_count": 46
        }
      ],
      "source": [
        "y_test.shape, my_model_yhat.shape"
      ]
    },
    {
      "cell_type": "markdown",
      "metadata": {
        "id": "2AOBK9hbYnaf"
      },
      "source": [
        "### 1.3) How does the error (in terms of precission and recall) differ between your model and the example? Write in one paragraph or less how the error differs and why. (5 points) "
      ]
    },
    {
      "cell_type": "code",
      "execution_count": 47,
      "metadata": {
        "id": "fP8EYlBUYnaf"
      },
      "outputs": [],
      "source": [
        "# Hint! Use the predict function and threshold your results. 0.5 is reasonable.\n",
        "# Please see the BCC jupyter notebook to see how to do this\n",
        "import numpy as np\n",
        "\n",
        "def threshold(x):\n",
        "  if x >= 0.5:\n",
        "    return 1 \n",
        "  else:\n",
        "    return 0\n",
        "\n",
        "thres = np.vectorize(threshold)\n",
        "model_yhat = thres(model_yhat)\n",
        "my_model_yhat = thres(my_model_yhat)"
      ]
    },
    {
      "cell_type": "code",
      "execution_count": 48,
      "metadata": {
        "colab": {
          "base_uri": "https://localhost:8080/"
        },
        "id": "TOzalXCGYtIa",
        "outputId": "4f88ccce-15e0-4b41-95cd-8cf72311e10e"
      },
      "outputs": [
        {
          "output_type": "stream",
          "name": "stdout",
          "text": [
            "The example model results\n",
            "              precision    recall  f1-score   support\n",
            "\n",
            "           0       0.84      0.75      0.79       102\n",
            "           1       0.63      0.74      0.68        57\n",
            "\n",
            "    accuracy                           0.75       159\n",
            "   macro avg       0.73      0.75      0.74       159\n",
            "weighted avg       0.76      0.75      0.75       159\n",
            "\n",
            "\n",
            "\n",
            "The custom-made model results\n",
            "              precision    recall  f1-score   support\n",
            "\n",
            "           0       0.84      0.75      0.79       102\n",
            "           1       0.63      0.74      0.68        57\n",
            "\n",
            "    accuracy                           0.75       159\n",
            "   macro avg       0.73      0.75      0.74       159\n",
            "weighted avg       0.76      0.75      0.75       159\n",
            "\n"
          ]
        }
      ],
      "source": [
        "from sklearn.metrics import classification_report \n",
        "\n",
        "print(\"The example model results\")\n",
        "print(classification_report(np.array(model_yhat), np.array(y_test).reshape((-1,1))))\n",
        "print(\"\\n\")\n",
        "print(\"The custom-made model results\")\n",
        "print(classification_report(np.array(my_model_yhat), np.array(y_test).reshape((-1,1))))"
      ]
    },
    {
      "cell_type": "markdown",
      "metadata": {
        "id": "MsSH838VMVhB"
      },
      "source": [
        "Looking at the example model and the custom made model results, we can see the precision is somewhat the same but also better. In terms of recall, our model does far better than the example model which is beneficial during inference. As we are interested in precision and recall, the results of our model seem a lot more convincing than the other."
      ]
    },
    {
      "cell_type": "markdown",
      "metadata": {
        "id": "NfKWyWNHYnaf"
      },
      "source": [
        "## 2) Complex fit of flowers"
      ]
    },
    {
      "cell_type": "markdown",
      "metadata": {
        "id": "A_PTyVq4Ynaf"
      },
      "source": [
        "The cool stuf starts with more complex functions. The [Deep learning course from Andrew Ng](https://www.coursera.org/learn/neural-networks-deep-learning?specialization=deep-learning) show a way to predict [Rose-functions](https://en.wikipedia.org/wiki/Rose_(mathematics)) using a model with multiple nodes. Lets try that as well!\n",
        "\n",
        "First we need to import the data:"
      ]
    },
    {
      "cell_type": "code",
      "execution_count": 49,
      "metadata": {
        "id": "qMMal0QFYnaf"
      },
      "outputs": [],
      "source": [
        "data = np.load('./data/rose/rose.npz')\n",
        "X, Y = data['X'], data['Y']"
      ]
    },
    {
      "cell_type": "markdown",
      "metadata": {
        "id": "Zo5iuacCYnaf"
      },
      "source": [
        "To give a feel how it looks, we will first plot the rose, which has 7 petals:"
      ]
    },
    {
      "cell_type": "code",
      "execution_count": 50,
      "metadata": {
        "id": "od7DDx7YYnaf"
      },
      "outputs": [],
      "source": [
        "import matplotlib.pyplot as plt"
      ]
    },
    {
      "cell_type": "code",
      "execution_count": 51,
      "metadata": {
        "colab": {
          "base_uri": "https://localhost:8080/",
          "height": 391
        },
        "id": "kuZmpnJAYnag",
        "outputId": "bbda080a-7ab0-44c6-9d7e-dc73e7f5dbc7"
      },
      "outputs": [
        {
          "output_type": "execute_result",
          "data": {
            "text/plain": [
              "<matplotlib.collections.PathCollection at 0x7f3d785c6a50>"
            ]
          },
          "metadata": {},
          "execution_count": 51
        },
        {
          "output_type": "display_data",
          "data": {
            "text/plain": [
              "<Figure size 432x432 with 1 Axes>"
            ],
            "image/png": "[encoded data removed]"
          },
          "metadata": {
            "needs_background": "light"
          }
        }
      ],
      "source": [
        "fig, ax = plt.subplots(1, 1, figsize=(6, 6))\n",
        "plt.scatter(X[0,:], X[1,:], c=Y.flatten())"
      ]
    },
    {
      "cell_type": "markdown",
      "metadata": {
        "id": "UVKVjDw3Ynag"
      },
      "source": [
        "We discussed before that a logistic regression model, like we have defined in our previous example, can only divide in a line. Lets try this out, as the data is clearly not defined in a line."
      ]
    },
    {
      "cell_type": "code",
      "execution_count": 53,
      "metadata": {
        "colab": {
          "base_uri": "https://localhost:8080/"
        },
        "id": "n4JRKEVSYnag",
        "outputId": "710476c7-4b28-4129-d989-66e9e9d6157b"
      },
      "outputs": [
        {
          "output_type": "execute_result",
          "data": {
            "text/plain": [
              "[\n",
              "  1 -> Dense layer (nx=2, nh=1, activation=sigmoid)\n",
              "]"
            ]
          },
          "metadata": {},
          "execution_count": 53
        }
      ],
      "source": [
        "np.random.seed(1)\n",
        "model = NeuralNetwork()\n",
        "model.addLayer(inputDimension=2, units=1, activation='sigmoid')\n",
        "model"
      ]
    },
    {
      "cell_type": "code",
      "execution_count": 54,
      "metadata": {
        "colab": {
          "base_uri": "https://localhost:8080/"
        },
        "id": "-tJDZBn4Ynag",
        "outputId": "afb46a61-0fe7-4a65-91d8-74cc92c8810c"
      },
      "outputs": [
        {
          "output_type": "stream",
          "name": "stdout",
          "text": [
            "cost: 0.6927732264810165\n"
          ]
        }
      ],
      "source": [
        "num_iterations = 1000\n",
        "for ix in range(num_iterations):\n",
        "    A = model.forward(X)\n",
        "    model.backward(A, Y)\n",
        "    model.update(learning_rate=1.2)\n",
        "    if ix % 1000 == 0:\n",
        "        print('cost:', model.cost(Y, A)) "
      ]
    },
    {
      "cell_type": "markdown",
      "metadata": {
        "id": "q37ZURKIYnag"
      },
      "source": [
        "A short piece of code to generate a contour plot and our Rose"
      ]
    },
    {
      "cell_type": "code",
      "execution_count": 55,
      "metadata": {
        "colab": {
          "base_uri": "https://localhost:8080/",
          "height": 265
        },
        "id": "UiiPh-czYnag",
        "outputId": "e7f1b5fd-8d59-44d0-e6bf-010cb770ae39"
      },
      "outputs": [
        {
          "output_type": "display_data",
          "data": {
            "text/plain": [
              "<Figure size 432x288 with 1 Axes>"
            ],
            "image/png": "[encoded data removed]"
          },
          "metadata": {
            "needs_background": "light"
          }
        }
      ],
      "source": [
        "def testModel(X, Y, h=0.1, f=1.05):\n",
        "    r = X.max()\n",
        "    xmesh, ymesh = np.meshgrid(np.arange(-r*f, r*f+h, h), np.arange(-r*f, r*f+h, h))\n",
        "    Z = model.forward(((np.c_[xmesh.ravel(), ymesh.ravel()]).T))\n",
        "    Z = (Z > 0.5) * 1\n",
        "    Z = Z.T.reshape(xmesh.shape)\n",
        "    plt.contourf(xmesh, ymesh, Z, cmap=plt.cm.OrRd)\n",
        "    plt.scatter(X[0, :], X[1, :], c=Y.flatten(), cmap=plt.cm.OrRd)\n",
        "testModel(X, Y)"
      ]
    },
    {
      "cell_type": "markdown",
      "metadata": {
        "id": "JpUgbGGdYnag"
      },
      "source": [
        "Definitely not a great fit and clearly a line. Now lets add another layer with four units to the model, with the last layer being the same sigmoid layer. The activation function for this model we keep similar to the one from Andrew, which was a tanh."
      ]
    },
    {
      "cell_type": "code",
      "execution_count": 56,
      "metadata": {
        "colab": {
          "base_uri": "https://localhost:8080/"
        },
        "id": "u8Gg9vGBYnah",
        "outputId": "165134e4-be6a-4337-8638-a134de8b2c3b"
      },
      "outputs": [
        {
          "output_type": "execute_result",
          "data": {
            "text/plain": [
              "[\n",
              "  1 -> Dense layer (nx=2, nh=4, activation=tanh)\n",
              "  2 -> Dense layer (nx=4, nh=1, activation=sigmoid)\n",
              "]"
            ]
          },
          "metadata": {},
          "execution_count": 56
        }
      ],
      "source": [
        "np.random.seed(1)\n",
        "\n",
        "model = NeuralNetwork()\n",
        "model.addLayer(inputDimension=2, units=4, activation='tanh')\n",
        "model.addLayer(units=1, activation='sigmoid')\n",
        "model"
      ]
    },
    {
      "cell_type": "code",
      "execution_count": 57,
      "metadata": {
        "colab": {
          "base_uri": "https://localhost:8080/"
        },
        "id": "AST-GxmYYnah",
        "outputId": "99408123-1481-4ef9-c9a1-e4db5b5f1f72"
      },
      "outputs": [
        {
          "output_type": "stream",
          "name": "stdout",
          "text": [
            "cost: 0.6931058695708833\n",
            "cost: 0.018725110460137053\n",
            "cost: 0.010960375476196672\n",
            "cost: 0.007723264407820074\n"
          ]
        }
      ],
      "source": [
        "num_iterations = 4000\n",
        "for ix in range(num_iterations):\n",
        "    A = model.forward(X)\n",
        "    model.backward(A, Y)\n",
        "    model.update(learning_rate=1.2)\n",
        "    if ix % 1000 == 0:\n",
        "        print('cost:', model.cost(Y, A)) "
      ]
    },
    {
      "cell_type": "code",
      "execution_count": 58,
      "metadata": {
        "colab": {
          "base_uri": "https://localhost:8080/",
          "height": 265
        },
        "id": "ksAoyXP1Ynah",
        "outputId": "67fe79a6-983a-494e-dc17-e8dbc4711e7a"
      },
      "outputs": [
        {
          "output_type": "display_data",
          "data": {
            "text/plain": [
              "<Figure size 432x288 with 1 Axes>"
            ],
            "image/png": "[encoded data removed]"
          },
          "metadata": {
            "needs_background": "light"
          }
        }
      ],
      "source": [
        "testModel(X,Y)"
      ]
    },
    {
      "cell_type": "markdown",
      "metadata": {
        "id": "1o_C8CDbYnah"
      },
      "source": [
        "This is something that really amazes me. Just a tiny layer more and we have the power to learn this much more complex function. Really great stuff!"
      ]
    },
    {
      "cell_type": "markdown",
      "metadata": {
        "id": "nJYtVl06a1Fu"
      },
      "source": [
        "## Q2: We will now implement customization via Keras as the examples above are specific to their respective datasets and are for example only to work through for learning purposes only. They will not properly run if customized (30 points)"
      ]
    },
    {
      "cell_type": "code",
      "execution_count": 59,
      "metadata": {
        "colab": {
          "base_uri": "https://localhost:8080/",
          "height": 86
        },
        "id": "cZF8N-qpbJ-M",
        "outputId": "b6b732ed-7091-4751-d2c6-45bad7f79f08"
      },
      "outputs": [
        {
          "output_type": "display_data",
          "data": {
            "text/plain": [
              "(688, 2)"
            ]
          },
          "metadata": {}
        },
        {
          "output_type": "display_data",
          "data": {
            "text/plain": [
              "(688, 1)"
            ]
          },
          "metadata": {}
        },
        {
          "output_type": "display_data",
          "data": {
            "text/plain": [
              "(550, 2)"
            ]
          },
          "metadata": {}
        },
        {
          "output_type": "display_data",
          "data": {
            "text/plain": [
              "(550, 1)"
            ]
          },
          "metadata": {}
        }
      ],
      "source": [
        "import numpy as np\n",
        "data = np.load('./data/rose/rose.npz')\n",
        "X, y = data['X'].transpose(), data['Y'].transpose()\n",
        "display(X.shape)\n",
        "display(y.shape)\n",
        "\n",
        "X_train, X_test, y_train, y_test = train_test_split(X, y, test_size=0.2, random_state=21)\n",
        "display(X_train.shape)\n",
        "display(y_train.shape)\n",
        "\n",
        "# Let's initialize our model\n",
        "model = Sequential() # Initialising the ANN"
      ]
    },
    {
      "cell_type": "markdown",
      "metadata": {
        "id": "IaSeK8fpYnah"
      },
      "source": [
        "### 2.1) Using the example above, try different number of nodes(units) and different activation functions. How does your loss change? (10 points) "
      ]
    },
    {
      "cell_type": "code",
      "execution_count": 60,
      "metadata": {
        "id": "hUa1-L50Ynah"
      },
      "outputs": [],
      "source": [
        "model.add(Dense(units = 25, activation = \"relu\", input_dim = X_train.shape[1])) # input dimension should be the number of features\n",
        "model.add(Dense(units = 1, activation = \"sigmoid\", input_dim = X_train.shape[1]))"
      ]
    },
    {
      "cell_type": "code",
      "execution_count": 61,
      "metadata": {
        "colab": {
          "base_uri": "https://localhost:8080/"
        },
        "id": "vHKEMm3TOANF",
        "outputId": "7deef854-8003-429f-ee62-eb0e43a04fd3"
      },
      "outputs": [
        {
          "output_type": "stream",
          "name": "stdout",
          "text": [
            "Epoch 1/10\n",
            "550/550 [==============================] - 2s 2ms/step - loss: 0.6526\n",
            "Epoch 2/10\n",
            "550/550 [==============================] - 1s 2ms/step - loss: 0.5761\n",
            "Epoch 3/10\n",
            "550/550 [==============================] - 1s 2ms/step - loss: 0.5351\n",
            "Epoch 4/10\n",
            "550/550 [==============================] - 1s 2ms/step - loss: 0.4967\n",
            "Epoch 5/10\n",
            "550/550 [==============================] - 1s 2ms/step - loss: 0.4604\n",
            "Epoch 6/10\n",
            "550/550 [==============================] - 1s 2ms/step - loss: 0.4312\n",
            "Epoch 7/10\n",
            "550/550 [==============================] - 1s 2ms/step - loss: 0.4030\n",
            "Epoch 8/10\n",
            "550/550 [==============================] - 2s 3ms/step - loss: 0.3769\n",
            "Epoch 9/10\n",
            "550/550 [==============================] - 1s 3ms/step - loss: 0.3499\n",
            "Epoch 10/10\n",
            "550/550 [==============================] - 2s 3ms/step - loss: 0.3275\n"
          ]
        },
        {
          "output_type": "execute_result",
          "data": {
            "text/plain": [
              "<keras.callbacks.History at 0x7f3d782906d0>"
            ]
          },
          "metadata": {},
          "execution_count": 61
        }
      ],
      "source": [
        "model.compile(optimizer = 'rmsprop', loss = 'binary_crossentropy')\n",
        "model.fit(X_train.astype('float'), y_train, batch_size = 1, epochs = 10)"
      ]
    },
    {
      "cell_type": "code",
      "execution_count": 62,
      "metadata": {
        "id": "Oq143SKjN3sg"
      },
      "outputs": [],
      "source": [
        "model2 = Sequential()\n",
        "model2.add(Dense(units = 25, activation = \"tanh\", input_dim = X_train.shape[1])) # input dimension should be the number of features\n",
        "model2.add(Dense(units = 1, activation = \"sigmoid\", input_dim = X_train.shape[1]))"
      ]
    },
    {
      "cell_type": "code",
      "execution_count": 63,
      "metadata": {
        "colab": {
          "base_uri": "https://localhost:8080/"
        },
        "id": "LdosVqyEOA0Q",
        "outputId": "42244f0d-6cfa-4e96-dd97-d27828126fa1"
      },
      "outputs": [
        {
          "output_type": "stream",
          "name": "stdout",
          "text": [
            "Epoch 1/10\n",
            "550/550 [==============================] - 2s 2ms/step - loss: 0.6337\n",
            "Epoch 2/10\n",
            "550/550 [==============================] - 1s 2ms/step - loss: 0.5124\n",
            "Epoch 3/10\n",
            "550/550 [==============================] - 1s 2ms/step - loss: 0.4125\n",
            "Epoch 4/10\n",
            "550/550 [==============================] - 1s 2ms/step - loss: 0.3214\n",
            "Epoch 5/10\n",
            "550/550 [==============================] - 1s 2ms/step - loss: 0.2523\n",
            "Epoch 6/10\n",
            "550/550 [==============================] - 1s 2ms/step - loss: 0.2059\n",
            "Epoch 7/10\n",
            "550/550 [==============================] - 1s 2ms/step - loss: 0.1730\n",
            "Epoch 8/10\n",
            "550/550 [==============================] - 1s 2ms/step - loss: 0.1516\n",
            "Epoch 9/10\n",
            "550/550 [==============================] - 1s 2ms/step - loss: 0.1347\n",
            "Epoch 10/10\n",
            "550/550 [==============================] - 1s 2ms/step - loss: 0.1228\n"
          ]
        },
        {
          "output_type": "execute_result",
          "data": {
            "text/plain": [
              "<keras.callbacks.History at 0x7f3d78224810>"
            ]
          },
          "metadata": {},
          "execution_count": 63
        }
      ],
      "source": [
        "model2.compile(optimizer = 'rmsprop', loss = 'binary_crossentropy')\n",
        "model2.fit(X_train.astype('float'), y_train, batch_size = 1, epochs = 10)"
      ]
    },
    {
      "cell_type": "markdown",
      "metadata": {
        "id": "aVKN7RMLYnah"
      },
      "source": [
        "### 2.2) Calculate your new error for 2 different models using classification report. Also, using the metrics, explain why you see the same or why you see a different error. (10 points) "
      ]
    },
    {
      "cell_type": "code",
      "execution_count": 64,
      "metadata": {
        "colab": {
          "base_uri": "https://localhost:8080/"
        },
        "id": "ZoCvAvwVQMUS",
        "outputId": "d8a6b0a2-c108-40b9-eb87-2c877c701c1e"
      },
      "outputs": [
        {
          "output_type": "stream",
          "name": "stdout",
          "text": [
            "5/5 [==============================] - 0s 3ms/step\n"
          ]
        }
      ],
      "source": [
        "model_yhat = model.predict(X_test)"
      ]
    },
    {
      "cell_type": "code",
      "execution_count": 65,
      "metadata": {
        "colab": {
          "base_uri": "https://localhost:8080/"
        },
        "id": "WVrehkkQQYyf",
        "outputId": "44246067-1b57-4f74-8716-6356ebfe0f22"
      },
      "outputs": [
        {
          "output_type": "stream",
          "name": "stdout",
          "text": [
            "5/5 [==============================] - 0s 2ms/step\n"
          ]
        }
      ],
      "source": [
        "model2_yhat = model2.predict(X_test)"
      ]
    },
    {
      "cell_type": "code",
      "execution_count": 66,
      "metadata": {
        "id": "i3kUowLlQfTr"
      },
      "outputs": [],
      "source": [
        "thres = np.vectorize(threshold)\n",
        "model_yhat = thres(model_yhat)\n",
        "model2_yhat = thres(model2_yhat)"
      ]
    },
    {
      "cell_type": "code",
      "execution_count": 67,
      "metadata": {
        "colab": {
          "base_uri": "https://localhost:8080/"
        },
        "id": "nvi8QHpjYnah",
        "outputId": "e47333bd-c83f-495a-d272-2ff2781ee854"
      },
      "outputs": [
        {
          "output_type": "stream",
          "name": "stdout",
          "text": [
            "The example model results\n",
            "              precision    recall  f1-score   support\n",
            "\n",
            "           0       1.00      0.93      0.97        92\n",
            "           1       0.88      1.00      0.94        46\n",
            "\n",
            "    accuracy                           0.96       138\n",
            "   macro avg       0.94      0.97      0.95       138\n",
            "weighted avg       0.96      0.96      0.96       138\n",
            "\n",
            "\n",
            "\n",
            "The custom-made model results\n",
            "              precision    recall  f1-score   support\n",
            "\n",
            "           0       1.00      0.95      0.97        91\n",
            "           1       0.90      1.00      0.95        47\n",
            "\n",
            "    accuracy                           0.96       138\n",
            "   macro avg       0.95      0.97      0.96       138\n",
            "weighted avg       0.97      0.96      0.96       138\n",
            "\n"
          ]
        }
      ],
      "source": [
        "from sklearn.metrics import classification_report \n",
        "\n",
        "\n",
        "print(\"The example model results\")\n",
        "print(classification_report(np.array(model_yhat), np.array(y_test).reshape((-1,1))))\n",
        "print(\"\\n\")\n",
        "\n",
        "print(\"The custom-made model results\")\n",
        "print(classification_report(np.array(model2_yhat), np.array(y_test).reshape((-1,1))))"
      ]
    },
    {
      "cell_type": "markdown",
      "metadata": {
        "id": "ltf4Uy5yQv9b"
      },
      "source": [
        "For our example model vs custom-made model, we noticed tanh activation function does far better compared to the example model given. Our model has an ideal precision for 0 and gets it correct all the time and has better precision for 1.\n",
        "The recall for our model is better as well as f1-score and hence we can conclusively prove that our model is better than the example model.\n",
        "The difference in the classification report is due to the different activation functions we used to define our model."
      ]
    },
    {
      "cell_type": "markdown",
      "metadata": {
        "id": "TvcIw3pHYnah"
      },
      "source": [
        "### 2.3) Choose your best model! Now plot the new results using the plotting example shown above but using our newly trained best/coolest model. (10 points) "
      ]
    },
    {
      "cell_type": "code",
      "execution_count": 68,
      "metadata": {
        "id": "gK14EFkPYnai"
      },
      "outputs": [],
      "source": [
        "# This is now working thanks to a student! It is a freebie question now, but feel free to display your results\n",
        "def testModelKeras(X, y, model, h=0.1, f=1.05):\n",
        "    r = X.max()\n",
        "    xmesh, ymesh = np.meshgrid(np.arange(-r*f, r*f+h, h), np.arange(-r*f, r*f+h, h))\n",
        "    Z = model.predict(((np.c_[xmesh.ravel(), ymesh.ravel()])))\n",
        "    Z = (Z > 0.5) * 1\n",
        "    Z = Z.T.reshape(xmesh.shape)\n",
        "    plt.contourf(xmesh, ymesh, Z, cmap=plt.cm.OrRd)\n",
        "    plt.scatter(X[:,0], X[:,1], c=y.flatten().T, cmap=plt.cm.OrRd)"
      ]
    },
    {
      "cell_type": "code",
      "execution_count": 69,
      "metadata": {
        "colab": {
          "base_uri": "https://localhost:8080/",
          "height": 282
        },
        "id": "pHEETvrOYtIb",
        "outputId": "aab6232f-ecb3-495b-8223-3d00fc1b759a"
      },
      "outputs": [
        {
          "output_type": "stream",
          "name": "stdout",
          "text": [
            "226/226 [==============================] - 0s 1ms/step\n"
          ]
        },
        {
          "output_type": "display_data",
          "data": {
            "text/plain": [
              "<Figure size 432x288 with 1 Axes>"
            ],
            "image/png": "[encoded data removed]"
          },
          "metadata": {
            "needs_background": "light"
          }
        }
      ],
      "source": [
        "# Plot using the following function call: testModelKeras(X, y, yourmodel)\n",
        "testModelKeras(X, y, model2)"
      ]
    },
    {
      "cell_type": "markdown",
      "metadata": {
        "id": "7wVZV2tFSCet"
      },
      "source": [
        "This is for comparing our model against the example model"
      ]
    },
    {
      "cell_type": "code",
      "execution_count": 70,
      "metadata": {
        "colab": {
          "base_uri": "https://localhost:8080/",
          "height": 282
        },
        "id": "wqI_EM7RSAWV",
        "outputId": "7417c17a-099c-4b5e-d5be-53a3ee6a72f6"
      },
      "outputs": [
        {
          "output_type": "stream",
          "name": "stdout",
          "text": [
            "226/226 [==============================] - 0s 1ms/step\n"
          ]
        },
        {
          "output_type": "display_data",
          "data": {
            "text/plain": [
              "<Figure size 432x288 with 1 Axes>"
            ],
            "image/png": "[encoded data removed]"
          },
          "metadata": {
            "needs_background": "light"
          }
        }
      ],
      "source": [
        "testModelKeras(X, y, model)"
      ]
    },
    {
      "cell_type": "markdown",
      "metadata": {
        "id": "D14qMvqpSHbY"
      },
      "source": [
        "Note that our custom model has better defined boundaries evident in the contour map above, given that the regions are better separated."
      ]
    },
    {
      "cell_type": "markdown",
      "metadata": {
        "id": "oRRH5UW1Ynai"
      },
      "source": [
        "## 3) Cats vs not cats"
      ]
    },
    {
      "cell_type": "markdown",
      "metadata": {
        "id": "RfHJ4U5UYnai"
      },
      "source": [
        "In the same course from Andrew, they pointed out that there is a terrible shortage of cat-detectors on the internet. Therefore, our class should detect cats in style! Lets download the same dataset. For details, please check out Andrew's Course, which is big fun!"
      ]
    },
    {
      "cell_type": "code",
      "execution_count": 72,
      "metadata": {
        "id": "1oU-QdGGYnai"
      },
      "outputs": [],
      "source": [
        "data = np.load('./data/cats/cats.npz')\n",
        "X_train, y_train = data['Xtrain'], data['Ytrain']\n",
        "X_test, y_test = data['Xtest'], data['Ytest']"
      ]
    },
    {
      "cell_type": "markdown",
      "metadata": {
        "id": "Z94ZPG6MYnai"
      },
      "source": [
        "Same functions as before."
      ]
    },
    {
      "cell_type": "code",
      "execution_count": 73,
      "metadata": {
        "id": "CMvK3YERYnaj"
      },
      "outputs": [],
      "source": [
        "def roundValue(A):\n",
        "    return np.uint8( A > 0.5)\n",
        "\n",
        "def accuracy(yhat, Y):\n",
        "    return round(np.sum(yhat==Y) / len(yhat.flatten()) * 1000) / 10"
      ]
    },
    {
      "cell_type": "markdown",
      "metadata": {
        "id": "J6vjLs7pYnaj"
      },
      "source": [
        "The model will be the same as the two layer model from the course. first layer has 7 units and a Relu activation function. Second layer is the sigmoid cat/no-cat layer."
      ]
    },
    {
      "cell_type": "code",
      "execution_count": 74,
      "metadata": {
        "colab": {
          "base_uri": "https://localhost:8080/"
        },
        "id": "8at1sjWEYnaj",
        "outputId": "6ba30686-fa54-4c08-b713-e28f860a4265"
      },
      "outputs": [
        {
          "output_type": "execute_result",
          "data": {
            "text/plain": [
              "[\n",
              "  1 -> Dense layer (nx=12288, nh=7, activation=relu)\n",
              "  2 -> Dense layer (nx=7, nh=1, activation=sigmoid)\n",
              "]"
            ]
          },
          "metadata": {},
          "execution_count": 74
        }
      ],
      "source": [
        "nx = X_train.shape[0]\n",
        "\n",
        "np.random.seed(1)\n",
        "\n",
        "model = NeuralNetwork()\n",
        "model.addLayer(inputDimension=nx, units=7, activation='relu')\n",
        "model.addLayer(units=1, activation='sigmoid')\n",
        "model"
      ]
    },
    {
      "cell_type": "code",
      "execution_count": 75,
      "metadata": {
        "colab": {
          "base_uri": "https://localhost:8080/"
        },
        "id": "FiDOXq2rYnaj",
        "outputId": "158596dd-a1ef-4ee9-bc7d-57f059e5e5b2"
      },
      "outputs": [
        {
          "output_type": "stream",
          "name": "stdout",
          "text": [
            "cost: 0.5638451365986756 \taccuracy: 65.6%\n",
            "cost: 0.5020981427480248 \taccuracy: 66.5%\n",
            "cost: 0.4529594637416237 \taccuracy: 81.3%\n",
            "cost: 0.39260693267512314 \taccuracy: 77.5%\n",
            "cost: 0.46671945669083215 \taccuracy: 75.6%\n",
            "cost: 0.42690871480652887 \taccuracy: 75.6%\n",
            "cost: 0.19321772934850068 \taccuracy: 93.3%\n",
            "cost: 0.1568294036065805 \taccuracy: 96.2%\n",
            "cost: 0.0747756553323842 \taccuracy: 98.6%\n",
            "cost: 0.04749460469840377 \taccuracy: 99.0%\n"
          ]
        }
      ],
      "source": [
        "num_iterations = 1000\n",
        "for ix in range(1, num_iterations+1):\n",
        "    A = model.forward(X_train)\n",
        "    model.backward(A, y_train)\n",
        "    model.update(learning_rate=0.03)\n",
        "    if ix % 100 == 0:\n",
        "        yhat_test = roundValue(A)\n",
        "        print('cost:', model.cost(y_train, A), f'\\taccuracy: {accuracy(yhat_test, y_train)}%')     "
      ]
    },
    {
      "cell_type": "markdown",
      "metadata": {
        "id": "NjVsxQrMYnak"
      },
      "source": [
        "Amazing accuracy. But we of course all know we should check this with a proper test set:"
      ]
    },
    {
      "cell_type": "code",
      "execution_count": 76,
      "metadata": {
        "colab": {
          "base_uri": "https://localhost:8080/"
        },
        "id": "cIYb-ebSYnak",
        "outputId": "623f9a33-fe9b-4eed-c8b7-84c8367c56cf"
      },
      "outputs": [
        {
          "output_type": "execute_result",
          "data": {
            "text/plain": [
              "72.0"
            ]
          },
          "metadata": {},
          "execution_count": 76
        }
      ],
      "source": [
        "A = model.forward(X_test)\n",
        "yhat_test = roundValue(A)\n",
        "acc = accuracy(yhat_test, y_test)\n",
        "acc"
      ]
    },
    {
      "cell_type": "markdown",
      "metadata": {
        "id": "qv1MjXhlYnak"
      },
      "source": [
        "An accuracy of 74% is definitely not bad for such a simple model which only works on pixel values. For the fun of it, lets look at some samples:"
      ]
    },
    {
      "cell_type": "code",
      "execution_count": 77,
      "metadata": {
        "colab": {
          "base_uri": "https://localhost:8080/",
          "height": 326
        },
        "id": "L0exh7oXYnak",
        "outputId": "c3ae7630-c16c-407f-f80a-df6700186b87"
      },
      "outputs": [
        {
          "output_type": "display_data",
          "data": {
            "text/plain": [
              "<Figure size 1152x576 with 3 Axes>"
            ],
            "image/png": "[encoded data removed]"
          },
          "metadata": {
            "needs_background": "light"
          }
        }
      ],
      "source": [
        "n = 3\n",
        "\n",
        "imgs = X_test.T.reshape([50, 64, 64, 3])\n",
        "\n",
        "fig, ax = plt.subplots(1, n, figsize=(16,8))\n",
        "for ix in range(n):\n",
        "    num = np.random.randint(imgs.shape[0])\n",
        "    ax[ix].imshow(imgs[num])\n",
        "    if yhat_test.flatten()[num] == 0:\n",
        "        ax[ix].set_title('This is clearly not a cat')\n",
        "    else:\n",
        "        ax[ix].set_title('Yup! it\\'s a cat')\n"
      ]
    },
    {
      "cell_type": "markdown",
      "metadata": {
        "id": "KNymHxiNiY4S"
      },
      "source": [
        "## Q3: Your turn! Let's do this!!! (50 points)"
      ]
    },
    {
      "cell_type": "code",
      "execution_count": 78,
      "metadata": {
        "colab": {
          "base_uri": "https://localhost:8080/",
          "height": 86
        },
        "id": "UVrE_ZFuiarQ",
        "outputId": "8037c333-1def-4054-8d99-c1886eb1d9c2"
      },
      "outputs": [
        {
          "output_type": "display_data",
          "data": {
            "text/plain": [
              "(209, 64, 64, 3)"
            ]
          },
          "metadata": {}
        },
        {
          "output_type": "display_data",
          "data": {
            "text/plain": [
              "(209, 1)"
            ]
          },
          "metadata": {}
        },
        {
          "output_type": "display_data",
          "data": {
            "text/plain": [
              "(50, 64, 64, 3)"
            ]
          },
          "metadata": {}
        },
        {
          "output_type": "display_data",
          "data": {
            "text/plain": [
              "(50, 1)"
            ]
          },
          "metadata": {}
        }
      ],
      "source": [
        "import numpy as np\n",
        "from sklearn.model_selection import train_test_split\n",
        "from keras.models import Sequential\n",
        "from keras.layers import Dense\n",
        "\n",
        "data = np.load('./data/cats/cats.npz')\n",
        "X_train, y_train = data['Xtrain'].transpose(), data['Ytrain'].transpose()\n",
        "X_test, y_test = data['Xtest'].transpose(), data['Ytest'].transpose()\n",
        "\n",
        "# Let's reshape your data here from a 1D vector to a 2D vector \n",
        "# This represents a grid of pixel coordinates and 3 values to represent RGB\n",
        "# Note our RGB values have already been scaled using minmaxscalar as RGB values range from 0, 255\n",
        "# X_train.shape[0] returns our number of observations in X_train\n",
        "X_train = X_train.reshape([X_train.shape[0], 64, 64, 3])\n",
        "X_test = X_test.reshape([X_test.shape[0], 64, 64, 3])\n",
        "\n",
        "# Let's Display our shapes\n",
        "display(X_train.shape)\n",
        "display(y_train.shape)\n",
        "display(X_test.shape)\n",
        "display(y_test.shape)"
      ]
    },
    {
      "cell_type": "markdown",
      "metadata": {
        "id": "IrCvQs6NYnak"
      },
      "source": [
        "### 3.1) Same as before, build a new model with different number of hidden layers, nodes and activation functions. Describe reason for any similarity or difference (30 points) "
      ]
    },
    {
      "cell_type": "code",
      "execution_count": null,
      "metadata": {
        "id": "GWBINuMguAC6"
      },
      "outputs": [],
      "source": [
        "#!pip install --upgrade tensorflow"
      ]
    },
    {
      "cell_type": "code",
      "execution_count": 79,
      "metadata": {
        "id": "Gw0L-RC9xSOo"
      },
      "outputs": [],
      "source": [
        "y_train = np.array(y_train)\n",
        "X_train = np.array(X_train)"
      ]
    },
    {
      "cell_type": "code",
      "execution_count": 80,
      "metadata": {
        "id": "8giOYF6Va8Sp"
      },
      "outputs": [],
      "source": [
        "import tensorflow as tf\n",
        "from tensorflow import keras\n",
        "from keras import layers"
      ]
    },
    {
      "cell_type": "code",
      "execution_count": 82,
      "metadata": {
        "colab": {
          "base_uri": "https://localhost:8080/"
        },
        "id": "wmdATv6tYnak",
        "outputId": "4d83019f-47eb-47f8-9b63-2294e8dd73de"
      },
      "outputs": [
        {
          "output_type": "stream",
          "name": "stdout",
          "text": [
            "Epoch 1/10\n",
            "209/209 [==============================] - 2s 5ms/step - loss: 0.8506 - accuracy: 0.6746\n",
            "Epoch 2/10\n",
            "209/209 [==============================] - 1s 5ms/step - loss: 0.5100 - accuracy: 0.7464\n",
            "Epoch 3/10\n",
            "209/209 [==============================] - 1s 3ms/step - loss: 0.4400 - accuracy: 0.7799\n",
            "Epoch 4/10\n",
            "209/209 [==============================] - 1s 3ms/step - loss: 0.4547 - accuracy: 0.8182\n",
            "Epoch 5/10\n",
            "209/209 [==============================] - 1s 3ms/step - loss: 0.3491 - accuracy: 0.8852\n",
            "Epoch 6/10\n",
            "209/209 [==============================] - 1s 3ms/step - loss: 0.2349 - accuracy: 0.9187\n",
            "Epoch 7/10\n",
            "209/209 [==============================] - 1s 3ms/step - loss: 0.1640 - accuracy: 0.9330\n",
            "Epoch 8/10\n",
            "209/209 [==============================] - 1s 3ms/step - loss: 0.2398 - accuracy: 0.9187\n",
            "Epoch 9/10\n",
            "209/209 [==============================] - 1s 3ms/step - loss: 0.1539 - accuracy: 0.9474\n",
            "Epoch 10/10\n",
            "209/209 [==============================] - 1s 3ms/step - loss: 0.0839 - accuracy: 0.9809\n"
          ]
        },
        {
          "output_type": "execute_result",
          "data": {
            "text/plain": [
              "<keras.callbacks.History at 0x7f3d648a1910>"
            ]
          },
          "metadata": {},
          "execution_count": 82
        }
      ],
      "source": [
        "# Try using different iterations using a simple layout like above. 10, 100, 1000 epochs. \n",
        "# What happens with your loss?\n",
        "# Let's initialize our model\n",
        "model = Sequential() # Initialising the ANN\n",
        "\n",
        "# build your model and compile here:\n",
        "\n",
        "cat_model = keras.Sequential([\n",
        "#    keras.layers.Flatten(input_shape=(64,64,3)),\n",
        "    keras.layers.Dense(64, input_shape=(64, 64, 3), activation= 'tanh'),\n",
        "    keras.layers.Dense(64, activation= 'relu'),\n",
        "    keras.layers.Flatten(input_shape=(64, 64, 3)),\n",
        "    keras.layers.Dense(1, activation= 'sigmoid') # linear activation function\n",
        "])\n",
        "\n",
        "# model.compile(optimizer = 'rmsprop', loss = 'binary_crossentropy')\n",
        "#```\n",
        "#```\n",
        "cat_model.compile(loss=\"binary_crossentropy\", optimizer=\"adam\", metrics=[\"accuracy\"])\n",
        "\"\"\"\"\"\"\"\"\"\"\"\"\"\"\"\"\"\"\"\"\"\"\"\"\"\"\"\"\"\"\"\"\"\"\"\"\"\"\"\"\"\"\"\"\"\"\"\"\"\"\"\"\"\"\"\"\"\n",
        ": Working\n",
        "\"\"\"\"\"\"\"\"\"\"\"\"\"\"\"\"\"\"\"\"\"\"\"\"\"\"\"\"\"\"\"\"\"\"\"\"\"\"\"\"\"\"\"\"\"\"\"\"\"\"\"\"\"\"\"\"\"   \n",
        "cat_model.fit(X_train, y_train, batch_size = 1, epochs = 10)"
      ]
    },
    {
      "cell_type": "code",
      "execution_count": 83,
      "metadata": {
        "colab": {
          "base_uri": "https://localhost:8080/"
        },
        "id": "O0hNbbt5P8Ct",
        "outputId": "2b299af6-0f90-4b8e-97dd-32e968707ff9"
      },
      "outputs": [
        {
          "output_type": "stream",
          "name": "stdout",
          "text": [
            "Epoch 1/100\n",
            "209/209 [==============================] - 2s 5ms/step - loss: 13.0710 - accuracy: 0.5694\n",
            "Epoch 2/100\n",
            "209/209 [==============================] - 1s 5ms/step - loss: 3.1953 - accuracy: 0.5885\n",
            "Epoch 3/100\n",
            "209/209 [==============================] - 1s 5ms/step - loss: 1.1013 - accuracy: 0.7225\n",
            "Epoch 4/100\n",
            "209/209 [==============================] - 1s 4ms/step - loss: 2.1256 - accuracy: 0.6699\n",
            "Epoch 5/100\n",
            "209/209 [==============================] - 1s 3ms/step - loss: 2.0947 - accuracy: 0.7560\n",
            "Epoch 6/100\n",
            "209/209 [==============================] - 1s 3ms/step - loss: 1.3604 - accuracy: 0.7560\n",
            "Epoch 7/100\n",
            "209/209 [==============================] - 1s 3ms/step - loss: 3.6834 - accuracy: 0.6890\n",
            "Epoch 8/100\n",
            "209/209 [==============================] - 1s 3ms/step - loss: 6.9678 - accuracy: 0.7464\n",
            "Epoch 9/100\n",
            "209/209 [==============================] - 1s 3ms/step - loss: 1.9286 - accuracy: 0.7512\n",
            "Epoch 10/100\n",
            "209/209 [==============================] - 1s 3ms/step - loss: 1.6675 - accuracy: 0.8134\n",
            "Epoch 11/100\n",
            "209/209 [==============================] - 1s 3ms/step - loss: 1.4668 - accuracy: 0.8182\n",
            "Epoch 12/100\n",
            "209/209 [==============================] - 1s 3ms/step - loss: 3.7963 - accuracy: 0.7416\n",
            "Epoch 13/100\n",
            "209/209 [==============================] - 1s 3ms/step - loss: 1.4210 - accuracy: 0.8278\n",
            "Epoch 14/100\n",
            "209/209 [==============================] - 1s 3ms/step - loss: 3.9610 - accuracy: 0.7656\n",
            "Epoch 15/100\n",
            "209/209 [==============================] - 1s 3ms/step - loss: 0.6950 - accuracy: 0.8804\n",
            "Epoch 16/100\n",
            "209/209 [==============================] - 1s 3ms/step - loss: 0.4270 - accuracy: 0.9139\n",
            "Epoch 17/100\n",
            "209/209 [==============================] - 1s 3ms/step - loss: 0.5516 - accuracy: 0.8947\n",
            "Epoch 18/100\n",
            "209/209 [==============================] - 1s 3ms/step - loss: 1.2197 - accuracy: 0.8565\n",
            "Epoch 19/100\n",
            "209/209 [==============================] - 1s 3ms/step - loss: 0.9816 - accuracy: 0.9139\n",
            "Epoch 20/100\n",
            "209/209 [==============================] - 1s 3ms/step - loss: 25.7139 - accuracy: 0.6699\n",
            "Epoch 21/100\n",
            "209/209 [==============================] - 1s 3ms/step - loss: 2.3586 - accuracy: 0.8469\n",
            "Epoch 22/100\n",
            "209/209 [==============================] - 1s 4ms/step - loss: 0.2626 - accuracy: 0.9569\n",
            "Epoch 23/100\n",
            "209/209 [==============================] - 1s 4ms/step - loss: 0.3276 - accuracy: 0.9569\n",
            "Epoch 24/100\n",
            "209/209 [==============================] - 1s 6ms/step - loss: 2.2351 - accuracy: 0.8469\n",
            "Epoch 25/100\n",
            "209/209 [==============================] - 1s 4ms/step - loss: 2.8816 - accuracy: 0.8612\n",
            "Epoch 26/100\n",
            "209/209 [==============================] - 1s 5ms/step - loss: 0.9034 - accuracy: 0.9043\n",
            "Epoch 27/100\n",
            "209/209 [==============================] - 1s 4ms/step - loss: 9.3254 - accuracy: 0.7799\n",
            "Epoch 28/100\n",
            "209/209 [==============================] - 1s 3ms/step - loss: 0.7829 - accuracy: 0.9234\n",
            "Epoch 29/100\n",
            "209/209 [==============================] - 1s 3ms/step - loss: 0.7944 - accuracy: 0.9665\n",
            "Epoch 30/100\n",
            "209/209 [==============================] - 1s 3ms/step - loss: 0.9768 - accuracy: 0.9282\n",
            "Epoch 31/100\n",
            "209/209 [==============================] - 1s 3ms/step - loss: 0.9048 - accuracy: 0.9187\n",
            "Epoch 32/100\n",
            "209/209 [==============================] - 1s 3ms/step - loss: 2.2677 - accuracy: 0.9043\n",
            "Epoch 33/100\n",
            "209/209 [==============================] - 1s 3ms/step - loss: 0.3018 - accuracy: 0.9809\n",
            "Epoch 34/100\n",
            "209/209 [==============================] - 1s 3ms/step - loss: 1.6998 - accuracy: 0.9378\n",
            "Epoch 35/100\n",
            "209/209 [==============================] - 1s 3ms/step - loss: 3.3664 - accuracy: 0.8708\n",
            "Epoch 36/100\n",
            "209/209 [==============================] - 1s 3ms/step - loss: 1.4483 - accuracy: 0.9234\n",
            "Epoch 37/100\n",
            "209/209 [==============================] - 1s 3ms/step - loss: 5.3232 - accuracy: 0.8373\n",
            "Epoch 38/100\n",
            "209/209 [==============================] - 1s 3ms/step - loss: 2.5572 - accuracy: 0.9091\n",
            "Epoch 39/100\n",
            "209/209 [==============================] - 1s 3ms/step - loss: 0.2041 - accuracy: 0.9809\n",
            "Epoch 40/100\n",
            "209/209 [==============================] - 1s 3ms/step - loss: 0.9285 - accuracy: 0.9282\n",
            "Epoch 41/100\n",
            "209/209 [==============================] - 1s 3ms/step - loss: 0.7315 - accuracy: 0.9522\n",
            "Epoch 42/100\n",
            "209/209 [==============================] - 1s 3ms/step - loss: 0.0970 - accuracy: 0.9761\n",
            "Epoch 43/100\n",
            "209/209 [==============================] - 1s 3ms/step - loss: 1.1450 - accuracy: 0.9474\n",
            "Epoch 44/100\n",
            "209/209 [==============================] - 1s 3ms/step - loss: 3.4967 - accuracy: 0.8947\n",
            "Epoch 45/100\n",
            "209/209 [==============================] - 1s 3ms/step - loss: 1.1370e-04 - accuracy: 1.0000\n",
            "Epoch 46/100\n",
            "209/209 [==============================] - 1s 3ms/step - loss: 1.0649e-05 - accuracy: 1.0000\n",
            "Epoch 47/100\n",
            "209/209 [==============================] - 1s 3ms/step - loss: 1.0336e-05 - accuracy: 1.0000\n",
            "Epoch 48/100\n",
            "209/209 [==============================] - 1s 3ms/step - loss: 9.8129e-06 - accuracy: 1.0000\n",
            "Epoch 49/100\n",
            "209/209 [==============================] - 1s 3ms/step - loss: 8.9159e-06 - accuracy: 1.0000\n",
            "Epoch 50/100\n",
            "209/209 [==============================] - 1s 3ms/step - loss: 9.1979e-06 - accuracy: 1.0000\n",
            "Epoch 51/100\n",
            "209/209 [==============================] - 1s 3ms/step - loss: 8.5392e-06 - accuracy: 1.0000\n",
            "Epoch 52/100\n",
            "209/209 [==============================] - 1s 3ms/step - loss: 8.4621e-06 - accuracy: 1.0000\n",
            "Epoch 53/100\n",
            "209/209 [==============================] - 1s 3ms/step - loss: 8.0360e-06 - accuracy: 1.0000\n",
            "Epoch 54/100\n",
            "209/209 [==============================] - 1s 3ms/step - loss: 7.6852e-06 - accuracy: 1.0000\n",
            "Epoch 55/100\n",
            "209/209 [==============================] - 1s 3ms/step - loss: 7.4623e-06 - accuracy: 1.0000\n",
            "Epoch 56/100\n",
            "209/209 [==============================] - 1s 3ms/step - loss: 7.0984e-06 - accuracy: 1.0000\n",
            "Epoch 57/100\n",
            "209/209 [==============================] - 1s 3ms/step - loss: 6.9879e-06 - accuracy: 1.0000\n",
            "Epoch 58/100\n",
            "209/209 [==============================] - 1s 3ms/step - loss: 6.0852e-06 - accuracy: 1.0000\n",
            "Epoch 59/100\n",
            "209/209 [==============================] - 1s 3ms/step - loss: 6.3119e-06 - accuracy: 1.0000\n",
            "Epoch 60/100\n",
            "209/209 [==============================] - 1s 3ms/step - loss: 6.0849e-06 - accuracy: 1.0000\n",
            "Epoch 61/100\n",
            "209/209 [==============================] - 1s 3ms/step - loss: 5.9508e-06 - accuracy: 1.0000\n",
            "Epoch 62/100\n",
            "209/209 [==============================] - 1s 3ms/step - loss: 5.7446e-06 - accuracy: 1.0000\n",
            "Epoch 63/100\n",
            "209/209 [==============================] - 1s 3ms/step - loss: 5.3277e-06 - accuracy: 1.0000\n",
            "Epoch 64/100\n",
            "209/209 [==============================] - 1s 3ms/step - loss: 4.7551e-06 - accuracy: 1.0000\n",
            "Epoch 65/100\n",
            "209/209 [==============================] - 1s 3ms/step - loss: 5.1409e-06 - accuracy: 1.0000\n",
            "Epoch 66/100\n",
            "209/209 [==============================] - 1s 3ms/step - loss: 4.7960e-06 - accuracy: 1.0000\n",
            "Epoch 67/100\n",
            "209/209 [==============================] - 1s 3ms/step - loss: 4.3827e-06 - accuracy: 1.0000\n",
            "Epoch 68/100\n",
            "209/209 [==============================] - 1s 3ms/step - loss: 4.4909e-06 - accuracy: 1.0000\n",
            "Epoch 69/100\n",
            "209/209 [==============================] - 1s 3ms/step - loss: 4.0130e-06 - accuracy: 1.0000\n",
            "Epoch 70/100\n",
            "209/209 [==============================] - 1s 3ms/step - loss: 3.2677e-06 - accuracy: 1.0000\n",
            "Epoch 71/100\n",
            "209/209 [==============================] - 1s 3ms/step - loss: 3.2983e-06 - accuracy: 1.0000\n",
            "Epoch 72/100\n",
            "209/209 [==============================] - 1s 3ms/step - loss: 2.9740e-06 - accuracy: 1.0000\n",
            "Epoch 73/100\n",
            "209/209 [==============================] - 1s 4ms/step - loss: 3.1387e-06 - accuracy: 1.0000\n",
            "Epoch 74/100\n",
            "209/209 [==============================] - 1s 3ms/step - loss: 2.9107e-06 - accuracy: 1.0000\n",
            "Epoch 75/100\n",
            "209/209 [==============================] - 1s 5ms/step - loss: 3.8401e-06 - accuracy: 1.0000\n",
            "Epoch 76/100\n",
            "209/209 [==============================] - 1s 4ms/step - loss: 2.7732e-06 - accuracy: 1.0000\n",
            "Epoch 77/100\n",
            "209/209 [==============================] - 1s 3ms/step - loss: 3.0346e-06 - accuracy: 1.0000\n",
            "Epoch 78/100\n",
            "209/209 [==============================] - 1s 3ms/step - loss: 1.9900e-06 - accuracy: 1.0000\n",
            "Epoch 79/100\n",
            "209/209 [==============================] - 1s 3ms/step - loss: 1.8328e-06 - accuracy: 1.0000\n",
            "Epoch 80/100\n",
            "209/209 [==============================] - 1s 3ms/step - loss: 1.8217e-06 - accuracy: 1.0000\n",
            "Epoch 81/100\n",
            "209/209 [==============================] - 1s 3ms/step - loss: 1.4991e-06 - accuracy: 1.0000\n",
            "Epoch 82/100\n",
            "209/209 [==============================] - 1s 3ms/step - loss: 1.3282e-06 - accuracy: 1.0000\n",
            "Epoch 83/100\n",
            "209/209 [==============================] - 1s 3ms/step - loss: 1.4326e-06 - accuracy: 1.0000\n",
            "Epoch 84/100\n",
            "209/209 [==============================] - 1s 3ms/step - loss: 1.6241e-06 - accuracy: 1.0000\n",
            "Epoch 85/100\n",
            "209/209 [==============================] - 1s 3ms/step - loss: 1.1983e-06 - accuracy: 1.0000\n",
            "Epoch 86/100\n",
            "209/209 [==============================] - 1s 3ms/step - loss: 9.3245e-07 - accuracy: 1.0000\n",
            "Epoch 87/100\n",
            "209/209 [==============================] - 1s 3ms/step - loss: 1.2977e-06 - accuracy: 1.0000\n",
            "Epoch 88/100\n",
            "209/209 [==============================] - 1s 3ms/step - loss: 8.6938e-07 - accuracy: 1.0000\n",
            "Epoch 89/100\n",
            "209/209 [==============================] - 1s 3ms/step - loss: 7.8862e-07 - accuracy: 1.0000\n",
            "Epoch 90/100\n",
            "209/209 [==============================] - 1s 3ms/step - loss: 6.5232e-07 - accuracy: 1.0000\n",
            "Epoch 91/100\n",
            "209/209 [==============================] - 1s 3ms/step - loss: 1.3045e-06 - accuracy: 1.0000\n",
            "Epoch 92/100\n",
            "209/209 [==============================] - 1s 3ms/step - loss: 5.9392e-07 - accuracy: 1.0000\n",
            "Epoch 93/100\n",
            "209/209 [==============================] - 1s 3ms/step - loss: 4.6309e-07 - accuracy: 1.0000\n",
            "Epoch 94/100\n",
            "209/209 [==============================] - 1s 3ms/step - loss: 7.1304e-07 - accuracy: 1.0000\n",
            "Epoch 95/100\n",
            "209/209 [==============================] - 1s 3ms/step - loss: 3.6807e-07 - accuracy: 1.0000\n",
            "Epoch 96/100\n",
            "209/209 [==============================] - 1s 3ms/step - loss: 5.1795e-07 - accuracy: 1.0000\n",
            "Epoch 97/100\n",
            "209/209 [==============================] - 1s 3ms/step - loss: 4.1202e-07 - accuracy: 1.0000\n",
            "Epoch 98/100\n",
            "209/209 [==============================] - 1s 3ms/step - loss: 4.1479e-07 - accuracy: 1.0000\n",
            "Epoch 99/100\n",
            "209/209 [==============================] - 1s 4ms/step - loss: 4.1255e-07 - accuracy: 1.0000\n",
            "Epoch 100/100\n",
            "209/209 [==============================] - 1s 4ms/step - loss: 2.7858e-07 - accuracy: 1.0000\n"
          ]
        },
        {
          "output_type": "execute_result",
          "data": {
            "text/plain": [
              "<keras.callbacks.History at 0x7f3d64771ad0>"
            ]
          },
          "metadata": {},
          "execution_count": 83
        }
      ],
      "source": [
        "cat_model2 = keras.Sequential([\n",
        "#    keras.layers.Flatten(input_shape=(64,64,3)),\n",
        "    keras.layers.Dense(64, input_shape=(64, 64, 3), activation= 'exponential'),\n",
        "    keras.layers.Dense(64, activation= 'elu'),\n",
        "    keras.layers.Flatten(input_shape=(64, 64, 3)),\n",
        "    keras.layers.Dense(1, activation= 'sigmoid') # linear activation function\n",
        "])\n",
        "\n",
        "cat_model2.compile(loss=\"binary_crossentropy\", optimizer=\"adam\", metrics=[\"accuracy\"])\n",
        "\"\"\"\"\"\"\"\"\"\"\"\"\"\"\"\"\"\"\"\"\"\"\"\"\"\"\"\"\"\"\"\"\"\"\"\"\"\"\"\"\"\"\"\"\"\"\"\"\"\"\"\"\"\"\"\"\"\n",
        ": Working\n",
        "\"\"\"\"\"\"\"\"\"\"\"\"\"\"\"\"\"\"\"\"\"\"\"\"\"\"\"\"\"\"\"\"\"\"\"\"\"\"\"\"\"\"\"\"\"\"\"\"\"\"\"\"\"\"\"\"\"   \n",
        "cat_model2.fit(X_train, y_train, batch_size = 1, epochs = 100)"
      ]
    },
    {
      "cell_type": "code",
      "execution_count": null,
      "metadata": {
        "id": "kcYm4T3hQVQc"
      },
      "outputs": [],
      "source": [
        "cat_model3 = keras.Sequential([\n",
        "#    keras.layers.Flatten(input_shape=(64,64,3)),\n",
        "    keras.layers.Dense(64, input_shape=(64, 64, 3), activation= 'tanh'),\n",
        "    keras.layers.Dense(64, activation= 'softmax'),\n",
        "    keras.layers.Flatten(input_shape=(64, 64, 3)),\n",
        "    keras.layers.Dense(1, activation= 'sigmoid') # linear activation function\n",
        "])\n",
        "\n",
        "cat_model3.compile(loss=\"binary_crossentropy\", optimizer=\"adam\", metrics=[\"accuracy\"])\n",
        "cat_model3.fit(X_train, y_train, batch_size = 1, epochs = 1000)\n",
        "# I did not run this instance entirely as increasing epochs would be an attempt at improving accuracy, and the accuracy is 1 just at 100 epochs hence 1000 iterations would make it better if there is no overfitting."
      ]
    },
    {
      "cell_type": "markdown",
      "metadata": {
        "id": "SXs9qfEqRj8w"
      },
      "source": [
        "Looks like cat_model works the best with the lowest loss value!"
      ]
    },
    {
      "cell_type": "code",
      "execution_count": 85,
      "metadata": {
        "id": "fXfcFuyaa_mm"
      },
      "outputs": [],
      "source": [
        "from keras.layers import Conv2D, Flatten, MaxPooling2D, BatchNormalization"
      ]
    },
    {
      "cell_type": "code",
      "execution_count": 86,
      "metadata": {
        "id": "dVYjQT00stLx"
      },
      "outputs": [],
      "source": [
        "# What happens when you add convolutional layers? What happens to our training loss?\n",
        "# Let's initialize our model\n",
        "model = Sequential() # Initialising the ANN\n",
        "\n",
        "# build your convulusional layers here:\n",
        "model.add(Conv2D(32, (3, 3), padding=\"same\", activation=\"relu\"))\n",
        "model.add(MaxPooling2D(pool_size=(2, 2)))\n",
        "\n",
        "# make sure you flatten after you convulusional layers here:\n",
        "model.add(Flatten())\n",
        "\n",
        "# Feel free to add hidden layers here: \n",
        "model.add(Dense(units = 64, activation = \"softmax\"))\n",
        "model.add(Dense(units = 16, activation = \"relu\"))\n",
        "# Hint reduce to a 1d vector as you have in the previous exercises.\n",
        "model.add(Dense(units = 1, activation = \"sigmoid\"))\n",
        "# compile your model here:\n",
        "model.compile('adam', loss='categorical_crossentropy', metrics=['accuracy'])"
      ]
    },
    {
      "cell_type": "code",
      "execution_count": null,
      "metadata": {
        "colab": {
          "base_uri": "https://localhost:8080/"
        },
        "id": "E4oMh-5FXWWC",
        "outputId": "7812f78c-32be-4ac4-a7c3-3e8229365d63"
      },
      "outputs": [
        {
          "output_type": "execute_result",
          "data": {
            "text/plain": [
              "((209, 64, 64, 3), (209, 1))"
            ]
          },
          "metadata": {},
          "execution_count": 12
        }
      ],
      "source": [
        "X_train.shape, y_train.shape"
      ]
    },
    {
      "cell_type": "code",
      "execution_count": null,
      "metadata": {
        "id": "dXsac9c0WdXQ",
        "colab": {
          "base_uri": "https://localhost:8080/",
          "height": 53
        },
        "outputId": "340982ad-a624-4809-e171-e66f37c13c4c"
      },
      "outputs": [
        {
          "output_type": "execute_result",
          "data": {
            "text/plain": [
              "'\\nnew = Sequential([\\n    Conv2D(64, (3, 3), input_shape=(64, 64, 3), padding=\"same\", activation=\"relu\"),\\n    MaxPooling2D(pool_size=(2, 2)),\\n    BatchNormalization(),\\n    Flatten(),\\n    Dense(64, activation=\"relu\"),\\n    Dense(1, activation=\"sigmoid\")\\n])\\n'"
            ],
            "application/vnd.google.colaboratory.intrinsic+json": {
              "type": "string"
            }
          },
          "metadata": {},
          "execution_count": 13
        }
      ],
      "source": [
        "\"\"\"\n",
        "new = Sequential([\n",
        "    Conv2D(64, (3, 3), input_shape=(64, 64, 3), padding=\"same\", activation=\"relu\"),\n",
        "    MaxPooling2D(pool_size=(2, 2)),\n",
        "    BatchNormalization(),\n",
        "    Flatten(),\n",
        "    Dense(64, activation=\"relu\"),\n",
        "    Dense(1, activation=\"sigmoid\")\n",
        "])\n",
        "\"\"\""
      ]
    },
    {
      "cell_type": "code",
      "execution_count": 89,
      "metadata": {
        "id": "lrOUGhHLencT"
      },
      "outputs": [],
      "source": [
        "\n",
        "cnn = Sequential([\n",
        "    BatchNormalization(),\n",
        "    Conv2D(64,kernel_size=2, strides=(2,2), input_shape=(64, 64, 3), padding=\"same\", activation=\"relu\", kernel_initializer='he_normal'),\n",
        "    MaxPooling2D(pool_size=2),\n",
        "    Flatten(),\n",
        "    #Flatten(input_shape=(64, 64, 3)),\n",
        "    Dense(64, activation= 'relu'),\n",
        "    Dense(64, activation= 'relu'),\n",
        "    Dense(1, activation= 'sigmoid') # linear activation function\n",
        "])\n"
      ]
    },
    {
      "cell_type": "code",
      "execution_count": 91,
      "metadata": {
        "colab": {
          "base_uri": "https://localhost:8080/"
        },
        "id": "I1OiWBpuVyIV",
        "outputId": "7d5a021d-91a6-4eb0-bc61-be4c61e745fa"
      },
      "outputs": [
        {
          "output_type": "stream",
          "name": "stdout",
          "text": [
            "Epoch 1/25\n",
            "209/209 [==============================] - 2s 6ms/step - loss: 0.0000e+00 - accuracy: 0.6555\n",
            "Epoch 2/25\n",
            "209/209 [==============================] - 1s 6ms/step - loss: 0.0000e+00 - accuracy: 0.6555\n",
            "Epoch 3/25\n",
            "209/209 [==============================] - 1s 4ms/step - loss: 0.0000e+00 - accuracy: 0.6555\n",
            "Epoch 4/25\n",
            "209/209 [==============================] - 1s 3ms/step - loss: 0.0000e+00 - accuracy: 0.6555\n",
            "Epoch 5/25\n",
            "209/209 [==============================] - 1s 3ms/step - loss: 0.0000e+00 - accuracy: 0.6555\n",
            "Epoch 6/25\n",
            "209/209 [==============================] - 1s 3ms/step - loss: 0.0000e+00 - accuracy: 0.6555\n",
            "Epoch 7/25\n",
            "209/209 [==============================] - 1s 3ms/step - loss: 0.0000e+00 - accuracy: 0.6555\n",
            "Epoch 8/25\n",
            "209/209 [==============================] - 1s 3ms/step - loss: 0.0000e+00 - accuracy: 0.6555\n",
            "Epoch 9/25\n",
            "209/209 [==============================] - 1s 3ms/step - loss: 0.0000e+00 - accuracy: 0.6555\n",
            "Epoch 10/25\n",
            "209/209 [==============================] - 1s 3ms/step - loss: 0.0000e+00 - accuracy: 0.6555\n",
            "Epoch 11/25\n",
            "209/209 [==============================] - 1s 3ms/step - loss: 0.0000e+00 - accuracy: 0.6555\n",
            "Epoch 12/25\n",
            "209/209 [==============================] - 1s 3ms/step - loss: 0.0000e+00 - accuracy: 0.6555\n",
            "Epoch 13/25\n",
            "209/209 [==============================] - 1s 3ms/step - loss: 0.0000e+00 - accuracy: 0.6555\n",
            "Epoch 14/25\n",
            "209/209 [==============================] - 1s 3ms/step - loss: 0.0000e+00 - accuracy: 0.6555\n",
            "Epoch 15/25\n",
            "209/209 [==============================] - 1s 3ms/step - loss: 0.0000e+00 - accuracy: 0.6555\n",
            "Epoch 16/25\n",
            "209/209 [==============================] - 1s 3ms/step - loss: 0.0000e+00 - accuracy: 0.6555\n",
            "Epoch 17/25\n",
            "209/209 [==============================] - 1s 3ms/step - loss: 0.0000e+00 - accuracy: 0.6555\n",
            "Epoch 18/25\n",
            "209/209 [==============================] - 1s 3ms/step - loss: 0.0000e+00 - accuracy: 0.6555\n",
            "Epoch 19/25\n",
            "209/209 [==============================] - 1s 3ms/step - loss: 0.0000e+00 - accuracy: 0.6555\n",
            "Epoch 20/25\n",
            "209/209 [==============================] - 1s 3ms/step - loss: 0.0000e+00 - accuracy: 0.6555\n",
            "Epoch 21/25\n",
            "209/209 [==============================] - 1s 3ms/step - loss: 0.0000e+00 - accuracy: 0.6555\n",
            "Epoch 22/25\n",
            "209/209 [==============================] - 1s 3ms/step - loss: 0.0000e+00 - accuracy: 0.6555\n",
            "Epoch 23/25\n",
            "209/209 [==============================] - 1s 3ms/step - loss: 0.0000e+00 - accuracy: 0.6555\n",
            "Epoch 24/25\n",
            "209/209 [==============================] - 1s 3ms/step - loss: 0.0000e+00 - accuracy: 0.6555\n",
            "Epoch 25/25\n",
            "209/209 [==============================] - 1s 3ms/step - loss: 0.0000e+00 - accuracy: 0.6555\n"
          ]
        },
        {
          "output_type": "execute_result",
          "data": {
            "text/plain": [
              "<keras.callbacks.History at 0x7f3d78312190>"
            ]
          },
          "metadata": {},
          "execution_count": 91
        }
      ],
      "source": [
        "cnn.compile(optimizer=\"adam\", loss='categorical_crossentropy', metrics=['accuracy'])\n",
        "cnn.fit(X_train, y_train, batch_size = 1, epochs = 25)"
      ]
    },
    {
      "cell_type": "markdown",
      "source": [
        "I tried adding convolutional errors and the loss that was being calculated was always zero, which is ideal. However this proves that the loss calculation is not correct as the model can never be accurate at the first epoch for a complicated image recognition system like this one. Hence the loss calculated is incorrect.\n",
        "Please review the comments as well as they might indicate my thought process. \n",
        "TL;DR : My model does not work correctly indicated by the wrongly calculated loss."
      ],
      "metadata": {
        "id": "GdoddXXaIGxA"
      }
    },
    {
      "cell_type": "markdown",
      "metadata": {
        "id": "Lmp8LC30Ynak"
      },
      "source": [
        "### 3.2) Calculate your accuracy (10 points) "
      ]
    },
    {
      "cell_type": "code",
      "source": [
        "'''\n",
        "def decode_batch_predictions(pred):\n",
        "    input_len = np.ones(pred.shape[0]) * pred.shape[1]\n",
        "    # Use greedy search. For complex tasks, you can use beam search.\n",
        "    results = keras.backend.ctc_decode(pred, input_length=input_len, greedy=True)[0][0][\n",
        "        :, :max_len\n",
        "    ]\n",
        "    # Iterate over the results and get back the text.\n",
        "    output_text = []\n",
        "    for res in results:\n",
        "        res = tf.gather(res, tf.where(tf.math.not_equal(res, -1)))\n",
        "        res = tf.strings.reduce_join(num_to_char(res)).numpy().decode(\"utf-8\")\n",
        "        output_text.append(res)\n",
        "    return output_text\n",
        "    '''"
      ],
      "metadata": {
        "id": "3sWDnU_HnZBR"
      },
      "execution_count": null,
      "outputs": []
    },
    {
      "cell_type": "code",
      "source": [
        "def threshold(x):\n",
        "  if x >= 0.5:\n",
        "    return 1 \n",
        "  else:\n",
        "    return 0"
      ],
      "metadata": {
        "id": "zCy5de5QoBF8"
      },
      "execution_count": 88,
      "outputs": []
    },
    {
      "cell_type": "code",
      "execution_count": 92,
      "metadata": {
        "id": "G7xQi21-Ynak",
        "colab": {
          "base_uri": "https://localhost:8080/"
        },
        "outputId": "e49c7075-3d67-4bf1-b215-563f2a23c4ed"
      },
      "outputs": [
        {
          "output_type": "stream",
          "name": "stdout",
          "text": [
            "7/7 [==============================] - 0s 5ms/step\n",
            "2/2 [==============================] - 0s 19ms/step\n",
            "              precision    recall  f1-score   support\n",
            "\n",
            "           0       0.34      1.00      0.51        17\n",
            "           1       0.00      0.00      0.00        33\n",
            "\n",
            "    accuracy                           0.34        50\n",
            "   macro avg       0.17      0.50      0.25        50\n",
            "weighted avg       0.12      0.34      0.17        50\n",
            "\n"
          ]
        },
        {
          "output_type": "stream",
          "name": "stderr",
          "text": [
            "/usr/local/lib/python3.7/dist-packages/sklearn/metrics/_classification.py:1318: UndefinedMetricWarning: Precision and F-score are ill-defined and being set to 0.0 in labels with no predicted samples. Use `zero_division` parameter to control this behavior.\n",
            "  _warn_prf(average, modifier, msg_start, len(result))\n",
            "/usr/local/lib/python3.7/dist-packages/sklearn/metrics/_classification.py:1318: UndefinedMetricWarning: Precision and F-score are ill-defined and being set to 0.0 in labels with no predicted samples. Use `zero_division` parameter to control this behavior.\n",
            "  _warn_prf(average, modifier, msg_start, len(result))\n",
            "/usr/local/lib/python3.7/dist-packages/sklearn/metrics/_classification.py:1318: UndefinedMetricWarning: Precision and F-score are ill-defined and being set to 0.0 in labels with no predicted samples. Use `zero_division` parameter to control this behavior.\n",
            "  _warn_prf(average, modifier, msg_start, len(result))\n"
          ]
        }
      ],
      "source": [
        "# Hint! Use the predict function and threshold your results. 0.5 is reasonable.\n",
        "# In your classification report since we are only predicting cats you will need to set the parameter labels\n",
        "# labels=np.unique(yhat_test)\n",
        "yhat_train = cnn.predict(X_train)\n",
        "yhat_test = cnn.predict(X_test)\n",
        "thres = np.vectorize(threshold)\n",
        "yhat_train = thres(yhat_train)\n",
        "yhat_test = thres(yhat_test)\n",
        "#print(yhat_test)\n",
        "from sklearn.metrics import classification_report\n",
        "print(classification_report(y_test, yhat_test))"
      ]
    },
    {
      "cell_type": "markdown",
      "metadata": {
        "id": "vf_Khwq1Ynak"
      },
      "source": [
        "### 3.3) Calculate your precision and recall manually (10 points) "
      ]
    },
    {
      "cell_type": "code",
      "execution_count": 93,
      "metadata": {
        "id": "3x1h25RzaDpP"
      },
      "outputs": [],
      "source": [
        "def compare(y, yhat):\n",
        "\tif yhat==0 and y==0:\n",
        "\t\treturn \"tn\"\n",
        "\telif yhat==1 and y==0:\n",
        "\t\treturn 'fp'\n",
        "\telif yhat==0 and y==1:\n",
        "\t\treturn 'fn'\n",
        "\telse:\n",
        "\t\treturn 'tp'\n",
        "\n",
        "comparesvec = np.vectorize(compare)\n",
        "result = comparesvec(y_test,yhat_test)\n",
        "tncount = (result == 'tn').sum()\n",
        "tpcount = (result == 'tp').sum()\n",
        "fncount = (result == 'fn').sum()\n",
        "fpcount = (result == 'fp').sum()"
      ]
    },
    {
      "cell_type": "code",
      "execution_count": 94,
      "metadata": {
        "id": "g8BpIv03Ynal"
      },
      "outputs": [],
      "source": [
        "# Recall calculation\n",
        "recall = tpcount/(tpcount+fncount)"
      ]
    },
    {
      "cell_type": "code",
      "execution_count": 95,
      "metadata": {
        "id": "BriMkolotghk",
        "colab": {
          "base_uri": "https://localhost:8080/"
        },
        "outputId": "d631a33a-8484-467b-d8ec-749b73b26e70"
      },
      "outputs": [
        {
          "output_type": "stream",
          "name": "stderr",
          "text": [
            "/usr/local/lib/python3.7/dist-packages/ipykernel_launcher.py:2: RuntimeWarning: invalid value encountered in long_scalars\n",
            "  \n"
          ]
        }
      ],
      "source": [
        "# Precision calculation\n",
        "precision = tpcount/(tpcount+fpcount)"
      ]
    },
    {
      "cell_type": "markdown",
      "metadata": {
        "id": "n3E_cvZbkb_o"
      },
      "source": [
        "### Let's plot!!!"
      ]
    },
    {
      "cell_type": "code",
      "execution_count": null,
      "metadata": {
        "id": "rq71-Hdnke1W"
      },
      "outputs": [],
      "source": [
        "n = 3\n",
        "imgs = X_test\n",
        "fig, ax = plt.subplots(1, n, figsize=(16,8))\n",
        "for ix in range(n):\n",
        "    num = np.random.randint(imgs.shape[0])\n",
        "    ax[ix].imshow(imgs[num])\n",
        "    if yhat_test[num] == 0:\n",
        "        ax[ix].set_title('This is clearly not a cat')\n",
        "    else:\n",
        "        ax[ix].set_title('Yup! it\\'s a cat')"
      ]
    },
    {
      "cell_type": "markdown",
      "metadata": {
        "id": "bC4SnF_7Ynal"
      },
      "source": [
        "## Round up!"
      ]
    },
    {
      "cell_type": "markdown",
      "metadata": {
        "id": "Ba-yJKQIYnal"
      },
      "source": [
        "I hope you all had fun, writing your own ANN. In my opinon, writing these things from the ground up is the best way to learn how it actually works. I hope that you see that these systems are not magical, but simple matrix multiplications, unfortunately just a very lot of them. The most difficult part is of course the back propagation, where we need to calculate the gradients. Our simple ANNs are quite doable, but adding more different layers to them, can make it a bit more cumbersome. Still the essence is very similar to what we have done today.\n",
        "\n",
        "My suggestion is to play around with these structures, rewrite parts of them, or even better, write your own from scratch!\n"
      ]
    },
    {
      "cell_type": "markdown",
      "metadata": {
        "id": "NJkBdpHDYnal"
      },
      "source": [
        "Please let me know if you have any comments!"
      ]
    },
    {
      "cell_type": "code",
      "execution_count": null,
      "metadata": {
        "id": "oo5nI67mYnal"
      },
      "outputs": [],
      "source": []
    },
    {
      "cell_type": "markdown",
      "metadata": {
        "id": "xUZ99lNyYnal"
      },
      "source": [
        "## Apendix"
      ]
    },
    {
      "cell_type": "markdown",
      "metadata": {
        "id": "Pc0AoxY_Ynal"
      },
      "source": [
        "### Generating Rose Data"
      ]
    },
    {
      "cell_type": "code",
      "execution_count": null,
      "metadata": {
        "id": "vNcaQgjQYnal"
      },
      "outputs": [],
      "source": [
        "def generateRoseData():\n",
        "    k=7\n",
        "    pointPerPetal = 100\n",
        "    cutOff = 0.1\n",
        "    r = 4\n",
        "\n",
        "    theta = np.linspace(0,np.pi, pointPerPetal * k)\n",
        "    xx = r * np.cos(k * theta) * np.cos(theta)\n",
        "    yy = r * np.cos(k * theta) * np.sin(theta)\n",
        "    cc = [np.ones(pointPerPetal) if ix % 3 == 0 else np.zeros(pointPerPetal) for ix in np.arange(k)]\n",
        "    cc = np.roll(np.hstack(cc).astype(np.uint8), -pointPerPetal//2)\n",
        "    x = xx[(xx**2 + yy**2)**0.5 > cutOff]\n",
        "    y = yy[(xx**2 + yy**2)**0.5 > cutOff]\n",
        "    col = cc[(xx**2 + yy**2)**0.5 > cutOff]\n",
        "    X = np.vstack([x,y])\n",
        "    Y = np.copy(col).reshape([1, -1])\n",
        "    return X, Y\n",
        "X, Y = generateRoseData()\n",
        "np.savez_compressed('./data/rose/rose.npz', X=X, Y=Y)"
      ]
    },
    {
      "cell_type": "code",
      "execution_count": null,
      "metadata": {
        "id": "Rq4YAjRgYnam"
      },
      "outputs": [],
      "source": []
    },
    {
      "cell_type": "markdown",
      "metadata": {
        "id": "cBlwWwKQYnam"
      },
      "source": [
        "### Processing Andrews CatvNotCat data"
      ]
    },
    {
      "cell_type": "code",
      "execution_count": null,
      "metadata": {
        "id": "2lkHWbzVYnam"
      },
      "outputs": [],
      "source": [
        "# If you get an error here, install h5py via pip3 install h5py\n",
        "import h5py"
      ]
    },
    {
      "cell_type": "code",
      "execution_count": null,
      "metadata": {
        "id": "HUyH9EvUYnam"
      },
      "outputs": [],
      "source": [
        "# Data downloaded from:\n",
        "# https://github.com/ridhimagarg/Cat-vs-Non-cat-Deep-learning-implementation\n",
        "def processCatData():\n",
        "    train_dataset = h5py.File(\"./data/cats/train_catvnoncat.h5\", mode='r')\n",
        "    Xtrain = np.array(train_dataset[\"train_set_x\"])\n",
        "    Y_train = np.array(train_dataset[\"train_set_y\"])\n",
        "    test_dataset = h5py.File(\"./data/cats/test_catvnoncat.h5\", mode='r')\n",
        "    Xtest = np.array(test_dataset[\"test_set_x\"])\n",
        "    Y_test = np.array(test_dataset[\"test_set_y\"])\n",
        "    X_train = Xtrain / 255\n",
        "    X_test = Xtest / 255\n",
        "    X_train = X_train.reshape(209, -1).T\n",
        "    Y_train = Y_train.reshape(-1, 209)\n",
        "    X_test = X_test.reshape(50, -1).T\n",
        "    Y_test = Y_test.reshape(-1, 50)\n",
        "    return X_train, X_test, Y_train, Y_test\n",
        "Xtrain, Xtest, Ytrain, Ytest = processCatData()\n",
        "np.savez_compressed('./data/cats/cats.npz', Xtrain=Xtrain, Xtest=Xtest, Ytrain=Ytrain, Ytest=Ytest)"
      ]
    },
    {
      "cell_type": "code",
      "execution_count": null,
      "metadata": {
        "id": "SkplsgolYnam"
      },
      "outputs": [],
      "source": []
    },
    {
      "cell_type": "markdown",
      "metadata": {
        "id": "iy2XhQSoYnan"
      },
      "source": [
        "# Credits\n",
        "#### Edwin Solares - Conversion to google colab, conversion to Keras and preprocessing data to work with Kears\n",
        "#### Dennis Bakhuis - May the Fourth (be with you) 2020\n",
        "https://linkedin.com/in/dennisbakhuis/ \\\n",
        "https://github.com/dennisbakhuis\n"
      ]
    },
    {
      "cell_type": "markdown",
      "metadata": {
        "id": "z0ja7ns_Ynan"
      },
      "source": [
        "## Exercise 4 - Collaborative Statement (5 points) \n",
        "### You must fill this out even if you worked alone to get credit.\n",
        "\n",
        "It is mandatory to include a Statement of Collaboration in each submission, that follows the guidelines below.\n",
        "Include the names of everyone involved in the discussions (especially in-person ones), and what was discussed.\n",
        "All students are required to follow the academic honesty guidelines posted on the course website. For\n",
        "programming assignments in particular, I encourage students to organize (perhaps using Piazza) to discuss the\n",
        "task descriptions, requirements, possible bugs in the support code, and the relevant technical content before they\n",
        "start working on it. However, you should not discuss the specific solutions, and as a guiding principle, you are\n",
        "not allowed to take anything written or drawn away from these discussions (no photographs of the blackboard,\n",
        "written notes, referring to Piazza, etc.). Especially after you have started working on the assignment, try to restrict\n",
        "the discussion to Piazza as much as possible, so that there is no doubt as to the extent of your collaboration."
      ]
    },
    {
      "cell_type": "markdown",
      "metadata": {
        "id": "_9W2MCUcVZyn"
      },
      "source": [
        "I have been working with my friend Sohan Patil, who is also my teammate"
      ]
    }
  ],
  "metadata": {
    "colab": {
      "collapsed_sections": [
        "Lb3TFMsiYnaV",
        "vf_Khwq1Ynak",
        "n3E_cvZbkb_o",
        "Pc0AoxY_Ynal",
        "cBlwWwKQYnam",
        "z0ja7ns_Ynan"
      ],
      "provenance": []
    },
    "gpuClass": "standard",
    "kernelspec": {
      "display_name": "Python 3 (ipykernel)",
      "language": "python",
      "name": "python3"
    },
    "language_info": {
      "codemirror_mode": {
        "name": "ipython",
        "version": 3
      },
      "file_extension": ".py",
      "mimetype": "text/x-python",
      "name": "python",
      "nbconvert_exporter": "python",
      "pygments_lexer": "ipython3",
      "version": "3.8.10"
    },
    "accelerator": "GPU"
  },
  "nbformat": 4,
  "nbformat_minor": 0
}