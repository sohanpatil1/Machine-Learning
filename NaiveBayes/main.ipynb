{
  "cells": [
    {
      "attachments": {},
      "cell_type": "markdown",
      "metadata": {
        "id": "eJ0pd6EzGQLS"
      },
      "source": [
        "## Background\n",
        "The Garment Industry is one of the key examples of the industrial globalization of this modern era. It is a highly labour-intensive industry with lots of manual processes. Satisfying the huge global demand for garment products is mostly dependent on the production and delivery performance of the employees in the garment manufacturing companies. So, it is highly desirable among the decision makers in the garments industry to track, analyse and predict the productivity performance of the working teams in their factories. \n",
        "\n",
        "## Dataset Attribute Information\n",
        "\n",
        "1. **date**: Date in MM-DD-YYYY\n",
        "2. **day**: Day of the Week\n",
        "3. **quarter** : A portion of the month. A month was divided into four quarters\n",
        "4. **department** : Associated department with the instance\n",
        "5. **team_no** : Associated team number with the instance\n",
        "6. **no_of_workers** : Number of workers in each team\n",
        "7. **no_of_style_change** : Number of changes in the style of a particular product\n",
        "8. **targeted_productivity** : Targeted productivity set by the Authority for each team for each day.\n",
        "9. **smv** : Standard Minute Value, it is the allocated time for a task\n",
        "10. **wip** : Work in progress. Includes the number of unfinished items for products\n",
        "11. **over_time** : Represents the amount of overtime by each team in minutes\n",
        "12. **incentive** : Represents the amount of financial incentive (in BDT) that enables or motivates a particular course of action.\n",
        "13. **idle_time** : The amount of time when the production was interrupted due to several reasons\n",
        "14. **idle_men** : The number of workers who were idle due to production interruption\n",
        "15. **actual_productivity** : The actual % of productivity that was delivered by the workers. It ranges from 0-1."
      ]
    },
    {
      "cell_type": "code",
      "execution_count": 2,
      "metadata": {
        "id": "xJq7Mxf4GQLV"
      },
      "outputs": [],
      "source": [
        "import pandas as pd\n",
        "import seaborn as sns\n",
        "from sklearn.model_selection import train_test_split\n",
        "from sklearn.metrics import classification_report\n",
        "import numpy as np\n",
        "from sklearn import preprocessing\n",
        "from sklearn.naive_bayes import CategoricalNB, GaussianNB, MultinomialNB"
      ]
    },
    {
      "attachments": {},
      "cell_type": "markdown",
      "metadata": {
        "id": "cq-VSl_wGQLV"
      },
      "source": [
        "## General Data Preprocessing (20 points)\n",
        "\n",
        "Our dataset needs cleaning before building any models. Some of the cleaning tasks are common in general, but depends on what kind of models we are building, sometimes we have to do additional processing. These additional tasks will be mentioned in each of the remaining two exercises later."
      ]
    },
    {
      "cell_type": "code",
      "execution_count": 5,
      "metadata": {
        "colab": {
          "base_uri": "https://localhost:8080/"
        },
        "id": "m9pK9DanGQLV",
        "outputId": "227bc741-22c1-425d-c76b-32b956073d34"
      },
      "outputs": [
        {
          "name": "stdout",
          "output_type": "stream",
          "text": [
            "Index(['quarter', 'department', 'day', 'team', 'targeted_productivity', 'smv',\n",
            "       'wip', 'over_time', 'incentive', 'idle_time', 'idle_men',\n",
            "       'no_of_style_change', 'no_of_workers', 'actual_productivity'],\n",
            "      dtype='object')\n"
          ]
        }
      ],
      "source": [
        "df = pd.read_csv('./garments_worker_productivity.csv')\n",
        "df = df.drop(\"date\", axis=1)\n",
        "print(df.columns)"
      ]
    },
    {
      "cell_type": "code",
      "execution_count": 6,
      "metadata": {
        "colab": {
          "base_uri": "https://localhost:8080/"
        },
        "id": "paOpaeWLGQLW",
        "outputId": "54313c31-caa2-45af-eca0-26e4aca1f25b"
      },
      "outputs": [
        {
          "name": "stdout",
          "output_type": "stream",
          "text": [
            "Categorical Elements for day are : ['Thursday' 'Saturday' 'Sunday' 'Monday' 'Tuesday' 'Wednesday']\n",
            "Categorical Elements for quarter are : ['Quarter1' 'Quarter2' 'Quarter3' 'Quarter4' 'Quarter5']\n",
            "Categorical Elements for department are : ['sweing' 'finishing ' 'finishing']\n",
            "Categorical Elements for team are : [ 8  1 11 12  6  7  2  3  9 10  5  4]\n"
          ]
        }
      ],
      "source": [
        "categoricalcols = ['day','quarter','department','team']\n",
        "for col in categoricalcols:\n",
        "    print(\"Categorical Elements for {} are : {}\".format(col,df[col].unique()))"
      ]
    },
    {
      "attachments": {},
      "cell_type": "markdown",
      "metadata": {
        "id": "uSGcOiEJGQLW"
      },
      "source": [
        "For each of the categorical attributes, remapped the duplicated items"
      ]
    },
    {
      "cell_type": "code",
      "execution_count": 7,
      "metadata": {
        "colab": {
          "base_uri": "https://localhost:8080/"
        },
        "id": "Ov7JuQRsGQLW",
        "outputId": "d42caa3e-ee0b-4e83-f4b4-6da9ee4550f1"
      },
      "outputs": [
        {
          "name": "stdout",
          "output_type": "stream",
          "text": [
            "Categorical Elements 6 for day are : ['Thursday' 'Saturday' 'Sunday' 'Monday' 'Tuesday' 'Wednesday']\n",
            "Categorical Elements 5 for quarter are : ['Quarter1' 'Quarter2' 'Quarter3' 'Quarter4' 'Quarter5']\n",
            "Categorical Elements 2 for department are : ['sewing' 'finishing']\n",
            "Categorical Elements 12 for team are : [ 8  1 11 12  6  7  2  3  9 10  5  4]\n"
          ]
        }
      ],
      "source": [
        "df = df.replace(to_replace='.*finishing.*', value='finishing', regex = True)\n",
        "df = df.replace(to_replace='sweing', value='sewing')\n",
        "for col in categoricalcols:\n",
        "    print(\"Categorical Elements {} for {} are : {}\".format(len(df[col].unique()),col,df[col].unique()))"
      ]
    },
    {
      "attachments": {},
      "cell_type": "markdown",
      "metadata": {
        "id": "SOe8ZdtuGQLW"
      },
      "source": [
        " - Created another column named `satisfied` that records the productivity performance. The behavior defined as follows.\n",
        "     - Returns True or 1 if `actual_productivity` is equal to or greater than `targeted_productivity`. Otherwise, return False or 0, which means the team fails to meet the expected performance."
      ]
    },
    {
      "cell_type": "code",
      "execution_count": 8,
      "metadata": {
        "id": "3sTuaktLGQLW"
      },
      "outputs": [],
      "source": [
        "df['satisfied'] = (df['actual_productivity'] >= df['targeted_productivity']).astype(int)\n",
        "# df['satisfied'].head()"
      ]
    },
    {
      "cell_type": "markdown",
      "metadata": {
        "id": "j5ynsEy1GQLX"
      },
      "source": [
        " - Drop the columns `actual_productivity` and `targeted_productivity`."
      ]
    },
    {
      "cell_type": "code",
      "execution_count": 9,
      "metadata": {
        "id": "BFCVsniGGQLX"
      },
      "outputs": [],
      "source": [
        "df = df.drop(columns=['actual_productivity','targeted_productivity'])\n",
        "# print(df.columns)"
      ]
    },
    {
      "cell_type": "markdown",
      "metadata": {
        "id": "e3q_SFbSGQLX"
      },
      "source": [
        " - Find and **print out** which columns/attributes that have empty vaules, e.g., NA, NaN, null, None."
      ]
    },
    {
      "cell_type": "code",
      "execution_count": 10,
      "metadata": {
        "colab": {
          "base_uri": "https://localhost:8080/"
        },
        "id": "pOhp8RFKGQLX",
        "outputId": "c265d628-316d-4462-cf37-edc3c3805710"
      },
      "outputs": [
        {
          "name": "stdout",
          "output_type": "stream",
          "text": [
            "['wip']\n"
          ]
        }
      ],
      "source": [
        "print(df.columns[df.isna().any()].tolist())"
      ]
    },
    {
      "cell_type": "markdown",
      "metadata": {
        "id": "A8NzjVdvGQLX"
      },
      "source": [
        " - Fill the empty values with 0.\n"
      ]
    },
    {
      "cell_type": "code",
      "execution_count": 11,
      "metadata": {
        "id": "1xG9gZB0GQLX"
      },
      "outputs": [],
      "source": [
        "df = df.replace(to_replace=np.nan, value = 0)\n",
        "ex1 = df # Extra step to save the runs : Ignore"
      ]
    },
    {
      "cell_type": "code",
      "execution_count": 12,
      "metadata": {
        "colab": {
          "base_uri": "https://localhost:8080/"
        },
        "id": "i8tdxXad6m_I",
        "outputId": "e914cf96-5243-496e-80b8-6a5cad6fe096"
      },
      "outputs": [
        {
          "name": "stdout",
          "output_type": "stream",
          "text": [
            "[]\n"
          ]
        }
      ],
      "source": [
        "print(df.columns[df.isna().any()].tolist()) #Checking if there are any NAs"
      ]
    },
    {
      "attachments": {},
      "cell_type": "markdown",
      "metadata": {
        "id": "bsJksAfBGQLX"
      },
      "source": [
        "## Naïve Bayes Classifier\n",
        "\n",
        "### Additional Data Preprocessing \n",
        "\n",
        "To build a Naïve Bayes Classifier, we need to further encode our categorical variables.\n",
        "\n",
        " - For each of the **categorical attribtues**, encode the set of categories to be **0 ~ (n_classes - 1)**.\n",
        "     - For example, \\[\"paris\", \"paris\", \"tokyo\", \"amsterdam\"\\] should be encoded as \\[1, 1, 2, 0\\].\n",
        "     - Note that the order does not really matter, i.e., \\[0, 0, 1, 2\\] also works. But you have to start with 0 in your encodings.\n",
        "     - You can find information about this encoding in the discussion materials.\n",
        "\n",
        "\n",
        " - Split the data into training and testing set with the ratio of 80:20."
      ]
    },
    {
      "cell_type": "code",
      "execution_count": 13,
      "metadata": {
        "id": "KcuQCVfqhipJ"
      },
      "outputs": [],
      "source": [
        "df = ex1"
      ]
    },
    {
      "cell_type": "code",
      "execution_count": 14,
      "metadata": {
        "id": "JrITjlbbHpUq"
      },
      "outputs": [],
      "source": [
        "# print(df)"
      ]
    },
    {
      "cell_type": "code",
      "execution_count": 15,
      "metadata": {
        "colab": {
          "base_uri": "https://localhost:8080/"
        },
        "id": "VeD0T5IbGQLX",
        "outputId": "7bb0bbe1-023e-4a18-c101-e8f5817ffef1"
      },
      "outputs": [
        {
          "name": "stderr",
          "output_type": "stream",
          "text": [
            "/usr/local/lib/python3.7/dist-packages/pandas/core/common.py:241: VisibleDeprecationWarning: Creating an ndarray from ragged nested sequences (which is a list-or-tuple of lists-or-tuples-or ndarrays with different lengths or shapes) is deprecated. If you meant to do this, you must specify 'dtype=object' when creating the ndarray.\n",
            "  result = np.asarray(values, dtype=dtype)\n"
          ]
        }
      ],
      "source": [
        "encoder = preprocessing.OrdinalEncoder() # Encodes each category as integers. From 0 to n_classes - 1\n",
        "y_encoder = preprocessing.LabelEncoder() # Same functionality but designed for the dependent variable.\n",
        "\n",
        "X = df[categoricalcols]\n",
        "encoder.fit(X)\n",
        "X = encoder.transform(X)\n",
        "\n",
        "y = df['satisfied']\n",
        "y_encoder.fit(y)\n",
        "y = y_encoder.transform(y)\n",
        "\n",
        "X = pd.DataFrame(data=X, columns=[categoricalcols])\n",
        "y = pd.DataFrame(data=y)\n",
        "\n",
        "df = df.drop(columns=df[categoricalcols], axis =1)\n",
        "df = pd.concat([df,X], axis=1)\n",
        "\n",
        "# print(df.columns)\n",
        "df = df[[c for c in df if c not in ['satisfied']] + ['satisfied']]\n",
        "\n",
        "# print(df.head())\n",
        "\n",
        "X_train, X_test, y_train, y_test = train_test_split(X,y, test_size=0.2, random_state=2022)\n",
        "# These 4 values are just for categorical variables\n"
      ]
    },
    {
      "cell_type": "code",
      "execution_count": 16,
      "metadata": {
        "id": "HOkh2Xh4huDY"
      },
      "outputs": [],
      "source": [
        "ex21 = df"
      ]
    },
    {
      "attachments": {},
      "cell_type": "markdown",
      "metadata": {
        "id": "kqD9DUNaGQLX"
      },
      "source": [
        "### Naïve Bayes Classifier for Categorical Attributes\n",
        "\n",
        "Use the categorical attributes built a Categorical Naïve Bayes classifier that predicts the column `satisfied`. <br >"
      ]
    },
    {
      "cell_type": "code",
      "execution_count": 17,
      "metadata": {
        "id": "DRHwOiQfZkwe"
      },
      "outputs": [],
      "source": [
        "df = ex21"
      ]
    },
    {
      "cell_type": "code",
      "execution_count": 18,
      "metadata": {
        "colab": {
          "base_uri": "https://localhost:8080/"
        },
        "id": "UlQbOq7rZv4l",
        "outputId": "1036e538-e398-4e17-c8fe-f11e7572bf97"
      },
      "outputs": [
        {
          "name": "stdout",
          "output_type": "stream",
          "text": [
            "              precision    recall  f1-score   support\n",
            "\n",
            "           0       0.38      0.16      0.23        56\n",
            "           1       0.78      0.92      0.84       184\n",
            "\n",
            "    accuracy                           0.74       240\n",
            "   macro avg       0.58      0.54      0.54       240\n",
            "weighted avg       0.69      0.74      0.70       240\n",
            "\n"
          ]
        },
        {
          "name": "stderr",
          "output_type": "stream",
          "text": [
            "/usr/local/lib/python3.7/dist-packages/sklearn/utils/validation.py:1692: FutureWarning: Feature names only support names that are all strings. Got feature names with dtypes: ['tuple']. An error will be raised in 1.2.\n",
            "  FutureWarning,\n",
            "/usr/local/lib/python3.7/dist-packages/sklearn/utils/validation.py:993: DataConversionWarning: A column-vector y was passed when a 1d array was expected. Please change the shape of y to (n_samples, ), for example using ravel().\n",
            "  y = column_or_1d(y, warn=True)\n",
            "/usr/local/lib/python3.7/dist-packages/sklearn/utils/validation.py:1692: FutureWarning: Feature names only support names that are all strings. Got feature names with dtypes: ['tuple']. An error will be raised in 1.2.\n",
            "  FutureWarning,\n"
          ]
        }
      ],
      "source": [
        "NB = CategoricalNB() # You can try using MultinomialNB\n",
        "NB.fit(X_train,y_train)\n",
        "\n",
        "print(classification_report(y_test, NB.predict(X_test)))\n"
      ]
    },
    {
      "attachments": {},
      "cell_type": "markdown",
      "metadata": {
        "id": "86y-Wos7GQLX"
      },
      "source": [
        "### Naïve Bayes Classifier for Numerical Attributes\n",
        "\n",
        "Using the numerical attributes only, built a Gaussian Naïve Bayes classifier that predicts the column `satisfied`. <br >"
      ]
    },
    {
      "cell_type": "code",
      "execution_count": 19,
      "metadata": {
        "colab": {
          "base_uri": "https://localhost:8080/"
        },
        "id": "OsLhqGv-GQLX",
        "outputId": "c3147f7b-d527-4cc0-ec24-5c9f50572c1d"
      },
      "outputs": [
        {
          "name": "stdout",
          "output_type": "stream",
          "text": [
            "     smv     wip  over_time  incentive  idle_time  idle_men  \\\n",
            "0  26.16  1108.0       7080         98        0.0         0   \n",
            "1   3.94     0.0        960          0        0.0         0   \n",
            "2  11.41   968.0       3660         50        0.0         0   \n",
            "3  11.41   968.0       3660         50        0.0         0   \n",
            "4  25.90  1170.0       1920         50        0.0         0   \n",
            "\n",
            "   no_of_style_change  no_of_workers  day  quarter  department  team  \\\n",
            "0                   0           59.0  3.0      0.0         1.0   7.0   \n",
            "1                   0            8.0  3.0      0.0         0.0   0.0   \n",
            "2                   0           30.5  3.0      0.0         1.0  10.0   \n",
            "3                   0           30.5  3.0      0.0         1.0  11.0   \n",
            "4                   0           56.0  3.0      0.0         1.0   5.0   \n",
            "\n",
            "   satisfied  \n",
            "0          1  \n",
            "1          1  \n",
            "2          1  \n",
            "3          1  \n",
            "4          1  \n",
            "              precision    recall  f1-score   support\n",
            "\n",
            "           0       0.43      0.67      0.53       266\n",
            "           1       0.84      0.66      0.74       691\n",
            "\n",
            "    accuracy                           0.66       957\n",
            "   macro avg       0.64      0.67      0.63       957\n",
            "weighted avg       0.73      0.66      0.68       957\n",
            "\n",
            "              precision    recall  f1-score   support\n",
            "\n",
            "           0       0.35      0.70      0.47        56\n",
            "           1       0.87      0.61      0.72       184\n",
            "\n",
            "    accuracy                           0.63       240\n",
            "   macro avg       0.61      0.66      0.59       240\n",
            "weighted avg       0.75      0.63      0.66       240\n",
            "\n"
          ]
        },
        {
          "name": "stderr",
          "output_type": "stream",
          "text": [
            "/usr/local/lib/python3.7/dist-packages/sklearn/utils/validation.py:993: DataConversionWarning: A column-vector y was passed when a 1d array was expected. Please change the shape of y to (n_samples, ), for example using ravel().\n",
            "  y = column_or_1d(y, warn=True)\n",
            "/usr/local/lib/python3.7/dist-packages/sklearn/base.py:451: UserWarning: X does not have valid feature names, but GaussianNB was fitted with feature names\n",
            "  \"X does not have valid feature names, but\"\n",
            "/usr/local/lib/python3.7/dist-packages/sklearn/base.py:451: UserWarning: X does not have valid feature names, but GaussianNB was fitted with feature names\n",
            "  \"X does not have valid feature names, but\"\n"
          ]
        }
      ],
      "source": [
        "# Remember to do this task with your processed data from Exercise 2.1\n",
        "scaler = preprocessing.StandardScaler()\n",
        "df = ex21\n",
        "\n",
        "# Renaming columns as the were formatted differently\n",
        "df = df.rename(columns={df.columns[8]: 'day'})\n",
        "df = df.rename(columns={df.columns[9]: 'quarter'})\n",
        "df = df.rename(columns={df.columns[10]: 'department'})\n",
        "df = df.rename(columns={df.columns[11]: 'team'})\n",
        "\n",
        "print(df.head())\n",
        "X = df.drop(columns=categoricalcols, axis = 'columns')\n",
        "X = df.drop(columns='satisfied', axis = 'columns')\n",
        "# print(X.head())\n",
        "\n",
        "\n",
        "X_train, X_test = train_test_split(X, test_size = 0.2, random_state = 2022)\n",
        "\n",
        "scaler.fit(X_train)\n",
        "NB = GaussianNB()\n",
        "NB.fit(X_train, y_train)\n",
        "\n",
        "print(classification_report(y_train, NB.predict(scaler.transform(X_train))))\n",
        "print(classification_report(y_test, NB.predict(scaler.transform(X_test))))"
      ]
    },
    {
      "attachments": {},
      "cell_type": "markdown",
      "metadata": {
        "id": "6kqx7ybQGQLY"
      },
      "source": [
        "## SVM Classifier\n",
        "\n",
        "### Additional Data Preprocessing\n",
        "\n",
        "To build a SVM Classifier, we need a different encoding for our categorical variables.\n",
        "\n",
        " - For each of the **categorical attribtues**, encode them with **one-hot encoding**.\n",
        "     - You can find information about this encoding in the discussion materials.\n",
        "\n",
        "\n",
        " - Split the data into training and testing set with the ratio of 80:20.\n"
      ]
    },
    {
      "cell_type": "code",
      "execution_count": 20,
      "metadata": {
        "id": "o-zXccBnGQLY"
      },
      "outputs": [],
      "source": [
        "# Remember to continue the task with your processed data from Exercise 1\n",
        "df = ex1\n",
        "\n",
        "encoder = preprocessing.OneHotEncoder()\n",
        "encoder.fit(df[categoricalcols])\n",
        "onehot_encoded = encoder.transform(df[categoricalcols]).toarray()\n",
        "# print(onehot_encoded, onehot_encoded.shape)\n",
        "\n",
        "X_train, X_test, y_train, y_test = train_test_split(onehot_encoded, df['satisfied'], test_size = 0.2, random_state = 2022)"
      ]
    },
    {
      "attachments": {},
      "cell_type": "markdown",
      "metadata": {
        "id": "1K1JYxzJGQLY"
      },
      "source": [
        "### SVM with Different Kernels\n",
        "\n",
        "Using all the attributes we have, built a SVM that predicts the column `satisfied`. <br >\n",
        "Specifically, \n",
        " - One SVM with **linear kernel**.\n",
        " - SVM but with **rbf kernel**."
      ]
    },
    {
      "cell_type": "code",
      "execution_count": 21,
      "metadata": {
        "colab": {
          "base_uri": "https://localhost:8080/"
        },
        "id": "dI413eaeGQLY",
        "outputId": "4485b6ed-4afe-4285-d1ea-70bdf5de898e"
      },
      "outputs": [
        {
          "name": "stdout",
          "output_type": "stream",
          "text": [
            "              precision    recall  f1-score   support\n",
            "\n",
            "           0       0.00      0.00      0.00        56\n",
            "           1       0.77      1.00      0.87       184\n",
            "\n",
            "    accuracy                           0.77       240\n",
            "   macro avg       0.38      0.50      0.43       240\n",
            "weighted avg       0.59      0.77      0.67       240\n",
            "\n",
            "              precision    recall  f1-score   support\n",
            "\n",
            "           0       0.57      0.23      0.33        56\n",
            "           1       0.80      0.95      0.87       184\n",
            "\n",
            "    accuracy                           0.78       240\n",
            "   macro avg       0.68      0.59      0.60       240\n",
            "weighted avg       0.75      0.78      0.74       240\n",
            "\n"
          ]
        },
        {
          "name": "stderr",
          "output_type": "stream",
          "text": [
            "/usr/local/lib/python3.7/dist-packages/sklearn/metrics/_classification.py:1318: UndefinedMetricWarning: Precision and F-score are ill-defined and being set to 0.0 in labels with no predicted samples. Use `zero_division` parameter to control this behavior.\n",
            "  _warn_prf(average, modifier, msg_start, len(result))\n",
            "/usr/local/lib/python3.7/dist-packages/sklearn/metrics/_classification.py:1318: UndefinedMetricWarning: Precision and F-score are ill-defined and being set to 0.0 in labels with no predicted samples. Use `zero_division` parameter to control this behavior.\n",
            "  _warn_prf(average, modifier, msg_start, len(result))\n",
            "/usr/local/lib/python3.7/dist-packages/sklearn/metrics/_classification.py:1318: UndefinedMetricWarning: Precision and F-score are ill-defined and being set to 0.0 in labels with no predicted samples. Use `zero_division` parameter to control this behavior.\n",
            "  _warn_prf(average, modifier, msg_start, len(result))\n"
          ]
        }
      ],
      "source": [
        "# Remember to do this task with your processed data from Exercise 3.1\n",
        "from sklearn.svm import SVC\n",
        "\n",
        "svmlin = SVC(kernel='linear')\n",
        "scaler.fit_transform(X_train)\n",
        "\n",
        "svmlin.fit(X_train, y_train)\n",
        "yhat = svmlin.predict(X_test)\n",
        "print(classification_report(y_test, yhat))\n",
        "\n",
        "svmpoly = SVC(kernel = 'rbf', degree = 3)\n",
        "svmpoly.fit(X_train,y_train)\n",
        "yhatpoly = svmpoly.predict(X_test)\n",
        "print(classification_report(y_test, yhatpoly))"
      ]
    },
    {
      "attachments": {},
      "cell_type": "markdown",
      "metadata": {
        "id": "sNTWHh81GQLY"
      },
      "source": [
        "### SVM with Over-sampling "
      ]
    },
    {
      "cell_type": "code",
      "execution_count": 22,
      "metadata": {
        "colab": {
          "base_uri": "https://localhost:8080/"
        },
        "id": "KDpxgYWaGQLY",
        "outputId": "89f1421b-bd72-410f-e206-c194ef6be339"
      },
      "outputs": [
        {
          "name": "stdout",
          "output_type": "stream",
          "text": [
            "1    691\n",
            "0    266\n",
            "Name: satisfied, dtype: int64\n",
            "0    691\n",
            "1    691\n",
            "Name: satisfied, dtype: int64\n",
            "              precision    recall  f1-score   support\n",
            "\n",
            "           0       0.36      0.61      0.45        56\n",
            "           1       0.85      0.67      0.75       184\n",
            "\n",
            "    accuracy                           0.65       240\n",
            "   macro avg       0.60      0.64      0.60       240\n",
            "weighted avg       0.73      0.65      0.68       240\n",
            "\n",
            "              precision    recall  f1-score   support\n",
            "\n",
            "           0       0.35      0.59      0.44        56\n",
            "           1       0.84      0.66      0.74       184\n",
            "\n",
            "    accuracy                           0.65       240\n",
            "   macro avg       0.59      0.63      0.59       240\n",
            "weighted avg       0.73      0.65      0.67       240\n",
            "\n"
          ]
        }
      ],
      "source": [
        "# Remember to do this task with your processed data from Exercise 3.1\n",
        "from imblearn.over_sampling import RandomOverSampler\n",
        "\n",
        "print(y_train.value_counts())\n",
        "\n",
        "ros = RandomOverSampler(random_state=21)\n",
        "X_os, y_os = ros.fit_resample(X_train, y_train)\n",
        "\n",
        "print(y_os.value_counts())\n",
        "\n",
        "svmlin = SVC(kernel='linear')\n",
        "scaler.fit_transform(X_train)\n",
        "\n",
        "svmlin.fit(X_os, y_os)\n",
        "yhat = svmlin.predict(X_test)\n",
        "print(classification_report(y_test, yhat))\n",
        "\n",
        "svmpoly = SVC(kernel = 'rbf', degree = 3)\n",
        "svmpoly.fit(X_os,y_os)\n",
        "yhatpoly = svmpoly.predict(X_test)\n",
        "print(classification_report(y_test, yhatpoly))"
      ]
    }
  ],
  "metadata": {
    "colab": {
      "provenance": []
    },
    "kernelspec": {
      "display_name": "Python 3.9.12 64-bit",
      "language": "python",
      "name": "python3"
    },
    "language_info": {
      "codemirror_mode": {
        "name": "ipython",
        "version": 3
      },
      "file_extension": ".py",
      "mimetype": "text/x-python",
      "name": "python",
      "nbconvert_exporter": "python",
      "pygments_lexer": "ipython3",
      "version": "3.9.12 (main, Mar 26 2022, 15:45:34) \n[Clang 13.0.0 (clang-1300.0.29.30)]"
    },
    "vscode": {
      "interpreter": {
        "hash": "b0fa6594d8f4cbf19f97940f81e996739fb7646882a419484c72d19e05852a7e"
      }
    }
  },
  "nbformat": 4,
  "nbformat_minor": 0
}
